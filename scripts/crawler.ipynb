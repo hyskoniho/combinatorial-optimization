{
 "cells": [
  {
   "cell_type": "markdown",
   "metadata": {},
   "source": [
    "Crawler para extração dos itens do carrinho da Atividade Prática."
   ]
  },
  {
   "cell_type": "markdown",
   "metadata": {},
   "source": [
    "# Imports"
   ]
  },
  {
   "cell_type": "code",
   "execution_count": 1,
   "metadata": {},
   "outputs": [],
   "source": [
    "import requests, json, threading, sys, traceback\n",
    "import pandas as pd"
   ]
  },
  {
   "cell_type": "markdown",
   "metadata": {},
   "source": [
    "# Funções"
   ]
  },
  {
   "cell_type": "code",
   "execution_count": 118,
   "metadata": {},
   "outputs": [],
   "source": [
    "def get_category(category: str) -> list:\n",
    "    headers = {\n",
    "        \"Content-Type\": \"application/json\",\n",
    "        \"Accept\": \"application/json\",\n",
    "    }\n",
    "\n",
    "    payload = {\n",
    "        \"partner\": \"linx\",\n",
    "        \"page\": 1,\n",
    "        \"resultsPerPage\": 300,\n",
    "        \"multiCategory\": category,\n",
    "        \"sortBy\": \"relevance\",\n",
    "        \"department\": \"ecom\",\n",
    "        \"storeId\": 461,\n",
    "        \"customerPlus\": True\n",
    "    }\n",
    "    \n",
    "    try:\n",
    "        # Pega o número total de produtos da categoria\n",
    "        response = requests.post(r\"https://api.vendas.gpa.digital/pa/search/category-page\", headers=headers, data=json.dumps(payload))\n",
    "        response.raise_for_status()\n",
    "        max_produtos = response.json()['totalProducts']\n",
    "        payload['resultsPerPage'] = max_produtos\n",
    "\n",
    "        # Pega a lista de produtos da categoria\n",
    "        response = requests.post(r\"https://api.vendas.gpa.digital/pa/search/category-page\", headers=headers, data=json.dumps(payload))\n",
    "        response.raise_for_status()\n",
    "        \n",
    "        lista_p = list(response.json()['products'])\n",
    "        lista_cod = []\n",
    "\n",
    "        for prod in lista_p:\n",
    "            lista_cod.append(prod['id'])\n",
    "            \n",
    "    except:\n",
    "        return []\n",
    "    \n",
    "    else:\n",
    "        return lista_cod"
   ]
  },
  {
   "cell_type": "code",
   "execution_count": 2,
   "metadata": {},
   "outputs": [],
   "source": [
    "def get_product(code: int, verbose: bool = False) -> dict:\n",
    "    try:\n",
    "        # Fazendo a requisição\n",
    "        texto = requests.get(fr\"https://www.paodeacucar.com/produto/{code}\").text\n",
    "        \n",
    "        # Encontrando as posições\n",
    "        inicio = texto.find('\"props\":') + len('\"props\":')\n",
    "        fim = texto.find(',\"page\":\"/produto\"', inicio)\n",
    "\n",
    "        # Extraindo a substring\n",
    "        substring = texto[inicio:fim].strip()\n",
    "        \n",
    "        # Dicionario Geral\n",
    "        dicionario = json.loads(substring)\n",
    "        \n",
    "        # Informações gerais do produto\n",
    "        informacoes = dicionario['initialProps']['componentProps']['product']\n",
    "        atributos = get_dictkey(informacoes, 'attributeGroups')\n",
    "        \n",
    "        # Dicionário com os resultados\n",
    "        resultados = {    \n",
    "        'id': informacoes['id'], \n",
    "        'nome': informacoes['name'], \n",
    "        'sku': informacoes['sku'], \n",
    "        'descricao': informacoes['description'],\n",
    "        'imagem': f'https://static.paodeacucar.com{informacoes['thumbPath']}',\n",
    "        'preco': get_dictkey(informacoes, 'currentPrice'),\n",
    "        'marca': get_dictcode(atributos, 'Marca'),\n",
    "        'alturaProduto': get_dictcode(atributos, 'alturaProduto'),\n",
    "        'larguraProduto': get_dictcode(atributos, 'larguraProduto'),\n",
    "        'pesoBruto': get_dictcode(atributos, 'pesoBruto'),\n",
    "        'unidadePesoBruto': get_dictcode(atributos, 'unidadePesoBruto'),\n",
    "        'profundidadeProduto': get_dictcode(atributos, 'profundidadeProduto')\n",
    "        }\n",
    "        \n",
    "        assert(\n",
    "            resultados['id'] == code and \n",
    "            resultados['preco'] != None and\n",
    "            resultados['alturaProduto'] != None and \n",
    "            resultados['larguraProduto'] != None and \n",
    "            resultados['pesoBruto'] != None and \n",
    "            resultados['unidadePesoBruto'] != None and\n",
    "            resultados['profundidadeProduto'] != None\n",
    "        )\n",
    "\n",
    "    except:\n",
    "        if verbose:\n",
    "            exc_info = sys.exc_info()\n",
    "            e = ''.join(traceback.format_exception(*exc_info))\n",
    "            del exc_info\n",
    "            \n",
    "            print(f\"Erro ao extrair informações do produto {code}!\\nErro:\\n{e}\")\n",
    "            \n",
    "            if 'informacoes' in locals():\n",
    "                print(json.dumps(locals()['informacoes'], indent=2))\n",
    "                \n",
    "            if 'informacoes2' in locals():\n",
    "                print(json.dumps(locals()['informacoes2'], indent=2))\n",
    "        \n",
    "        return None\n",
    "    \n",
    "    else:\n",
    "        return resultados"
   ]
  },
  {
   "cell_type": "code",
   "execution_count": 120,
   "metadata": {},
   "outputs": [],
   "source": [
    "def fetch_products(codigos, verbose: bool = False):\n",
    "    resultados = []\n",
    "    threads = []\n",
    "    lock = threading.Lock()\n",
    "\n",
    "    def thread_function(codigo, verbose):\n",
    "        info = get_product(codigo, verbose)\n",
    "        \n",
    "        if info:\n",
    "            with lock:\n",
    "                resultados.append(info)\n",
    "\n",
    "    for codigo in codigos:\n",
    "        thread = threading.Thread(target=thread_function, args=(codigo, verbose,))\n",
    "        threads.append(thread)\n",
    "        thread.start()\n",
    "\n",
    "    while any(thread.is_alive() for thread in threads): pass\n",
    "\n",
    "    return resultados\n"
   ]
  },
  {
   "cell_type": "code",
   "execution_count": 121,
   "metadata": {},
   "outputs": [],
   "source": [
    "def get_dictkey(dicionario, chave):\n",
    "    # Função interna recursiva\n",
    "    def busca_recursiva(d):\n",
    "        if isinstance(d, dict):\n",
    "            for k, v in d.items():\n",
    "                if k == chave:\n",
    "                    return v\n",
    "                resultado = busca_recursiva(v)\n",
    "                if resultado is not None:\n",
    "                    return resultado\n",
    "                \n",
    "        elif isinstance(d, list):\n",
    "            for item in d:\n",
    "                resultado = busca_recursiva(item)\n",
    "                if resultado is not None:\n",
    "                    return resultado\n",
    "        return None\n",
    "\n",
    "    return busca_recursiva(dicionario)"
   ]
  },
  {
   "cell_type": "code",
   "execution_count": 122,
   "metadata": {},
   "outputs": [],
   "source": [
    "def get_dictcode(d, code):\n",
    "    # Se d for um dicionário, iteramos sobre suas chaves e valores\n",
    "    if isinstance(d, dict):\n",
    "        if d.get('code') == code:\n",
    "            return d.get('value')  # Retorna o valor se a chave 'code' for encontrada com o valor especificado\n",
    "        for value in d.values():\n",
    "            result = find_value_by_code(value, code)  # Chamada recursiva\n",
    "            if result is not None:\n",
    "                return result  # Retorna o resultado se o dicionário for encontrado\n",
    "\n",
    "    # Se d for uma lista, iteramos sobre os elementos da lista\n",
    "    elif isinstance(d, list):\n",
    "        for item in d:\n",
    "            result = find_value_by_code(item, code)  # Chamada recursiva\n",
    "            if result is not None:\n",
    "                return result  # Retorna o resultado se o dicionário for encontrado\n",
    "\n",
    "    return None  # Retorna None se o dicionário não for encontrado"
   ]
  },
  {
   "cell_type": "code",
   "execution_count": 123,
   "metadata": {},
   "outputs": [],
   "source": [
    "def format_desc(x):\n",
    "    for rep in ['<b>', '</b>', '<br>', '</br>', '<p>', '</p>', '\\r', '\\n', r'\"\"\"¿']:\n",
    "        x = x.replace(rep, '')\n",
    "    \n",
    "    return x"
   ]
  },
  {
   "cell_type": "markdown",
   "metadata": {},
   "source": [
    "# Constants"
   ]
  },
  {
   "cell_type": "code",
   "execution_count": 124,
   "metadata": {},
   "outputs": [],
   "source": [
    "CATEGORIAS = ['alimentos', 'bebidas', 'limpeza', 'petshop', 'bebidas-alcoolicas-', 'bebes-e-criancas', 'cuidados-pessoais', 'suplementos-alimentares', 'floricultura-e-jardim']"
   ]
  },
  {
   "cell_type": "markdown",
   "metadata": {},
   "source": [
    "# Code"
   ]
  },
  {
   "cell_type": "code",
   "execution_count": null,
   "metadata": {},
   "outputs": [],
   "source": [
    "map = []\n",
    "\n",
    "for category in CATEGORIAS:\n",
    "    print(f\"Obtendo códigos de produtos da categoria {category}...\")\n",
    "    codigos = get_category(category)\n",
    "    \n",
    "    print(f\"Obtendo informações dos produtos da categoria {category}...\")\n",
    "    # map[category] = fetch_products(codigos)\n",
    "    for item in fetch_products(codigos):\n",
    "        map.append({**item, **{'categoria': category}})\n",
    "\n",
    "map"
   ]
  },
  {
   "cell_type": "code",
   "execution_count": null,
   "metadata": {},
   "outputs": [],
   "source": [
    "df = pd.concat([pd.DataFrame([item]) for item in map], ignore_index=True, sort=False, axis='index')\n",
    "df"
   ]
  },
  {
   "cell_type": "code",
   "execution_count": null,
   "metadata": {},
   "outputs": [],
   "source": [
    "df['descricao'] = df['descricao'].apply(format_desc)\n",
    "df['descricao'] = df['descricao'].fillna('Sem descrição')\n",
    "df['pesoBruto'] = df['pesoBruto'].astype(float)\n",
    "df['pesoBruto'] = df.apply(lambda x: x['pesoBruto'] if x['unidadePesoBruto'] == 'G' else x['pesoBruto'] * 1000, axis=1)\n",
    "df.drop(columns=['unidadePesoBruto'], inplace=True)\n",
    "df"
   ]
  },
  {
   "cell_type": "code",
   "execution_count": 128,
   "metadata": {},
   "outputs": [],
   "source": [
    "df.to_csv(r'..\\data\\produtos.csv', index=False, sep='|', encoding='utf-8')"
   ]
  }
 ],
 "metadata": {
  "kernelspec": {
   "display_name": ".venv",
   "language": "python",
   "name": "python3"
  },
  "language_info": {
   "codemirror_mode": {
    "name": "ipython",
    "version": 3
   },
   "file_extension": ".py",
   "mimetype": "text/x-python",
   "name": "python",
   "nbconvert_exporter": "python",
   "pygments_lexer": "ipython3",
   "version": "3.12.7"
  }
 },
 "nbformat": 4,
 "nbformat_minor": 2
}
