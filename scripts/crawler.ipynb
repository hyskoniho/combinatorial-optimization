{
 "cells": [
  {
   "cell_type": "markdown",
   "metadata": {},
   "source": [
    "Crawler para extração dos itens do carrinho da Atividade Prática."
   ]
  },
  {
   "cell_type": "markdown",
   "metadata": {},
   "source": [
    "# Imports"
   ]
  },
  {
   "cell_type": "code",
   "execution_count": 2,
   "metadata": {},
   "outputs": [],
   "source": [
    "import requests, json"
   ]
  },
  {
   "cell_type": "code",
   "execution_count": 3,
   "metadata": {},
   "outputs": [],
   "source": [
    "headers = {\n",
    "    \"Content-Type\": \"application/json\",\n",
    "    \"Accept\": \"application/json\",\n",
    "}\n",
    "\n",
    "payload = {\n",
    "    \"partner\": \"linx\",\n",
    "    \"page\": 1,\n",
    "    \"resultsPerPage\": 300,\n",
    "    \"multiCategory\": \"alimentos\",\n",
    "    \"sortBy\": \"relevance\",\n",
    "    \"department\": \"ecom\",\n",
    "    \"storeId\": 461,\n",
    "    \"customerPlus\": True\n",
    "}\n",
    "\n",
    "response = requests.post(r\"https://api.vendas.gpa.digital/pa/search/category-page\", headers=headers, data=json.dumps(payload))\n",
    "\n",
    "max_produtos = response.json()['totalProducts']\n",
    "payload['resultsPerPage'] = max_produtos\n",
    "\n",
    "response = requests.post(r\"https://api.vendas.gpa.digital/pa/search/category-page\", headers=headers, data=json.dumps(payload))\n",
    "lista_p = list(response.json()['products'])\n",
    "lista_cod = []\n",
    "\n",
    "for prod in lista_p:\n",
    "    lista_cod.append(prod['id'])\n"
   ]
  },
  {
   "cell_type": "code",
   "execution_count": 4,
   "metadata": {},
   "outputs": [
    {
     "data": {
      "text/plain": [
       "100"
      ]
     },
     "execution_count": 4,
     "metadata": {},
     "output_type": "execute_result"
    }
   ],
   "source": [
    "len(lista_cod)"
   ]
  },
  {
   "cell_type": "code",
   "execution_count": null,
   "metadata": {},
   "outputs": [],
   "source": [
    "texto = requests.get(r\"https://www.paodeacucar.com/produto/86559\").text\n",
    "texto"
   ]
  },
  {
   "cell_type": "code",
   "execution_count": null,
   "metadata": {},
   "outputs": [],
   "source": [
    "# Encontrando as posições\n",
    "inicio = texto.find('\"props\":') + len('\"props\":')\n",
    "fim = texto.find(',\"page\":\"/produto\"', inicio)\n",
    "\n",
    "# Extraindo a substring\n",
    "substring = texto[inicio:fim].strip()\n",
    "\n",
    "substring"
   ]
  },
  {
   "cell_type": "code",
   "execution_count": null,
   "metadata": {},
   "outputs": [],
   "source": [
    "# Transformando em dicionário\n",
    "dicionario = json.loads(substring)\n",
    "dicionario"
   ]
  },
  {
   "cell_type": "code",
   "execution_count": null,
   "metadata": {},
   "outputs": [],
   "source": [
    "dicionario['initialProps']['componentProps']['product'].keys()"
   ]
  },
  {
   "cell_type": "code",
   "execution_count": null,
   "metadata": {},
   "outputs": [],
   "source": [
    "dicionario['initialProps']['componentProps']['product']['brand']"
   ]
  },
  {
   "cell_type": "code",
   "execution_count": null,
   "metadata": {},
   "outputs": [],
   "source": [
    "dicionario['initialProps']['componentProps']['product']['attributeGroups'][2]['attributes']"
   ]
  },
  {
   "cell_type": "code",
   "execution_count": 40,
   "metadata": {},
   "outputs": [],
   "source": [
    "def get_product_info(code: int, verbose: bool = False) -> dict:\n",
    "    try:\n",
    "        # Fazendo a requisição\n",
    "        texto = requests.get(fr\"https://www.paodeacucar.com/produto/{code}\").text\n",
    "        \n",
    "        # Encontrando as posições\n",
    "        inicio = texto.find('\"props\":') + len('\"props\":')\n",
    "        fim = texto.find(',\"page\":\"/produto\"', inicio)\n",
    "\n",
    "        # Extraindo a substring\n",
    "        substring = texto[inicio:fim].strip()\n",
    "        \n",
    "        # Dicionario Geral\n",
    "        dicionario = json.loads(substring)\n",
    "        \n",
    "        # Informações gerais do produto\n",
    "        informacoes = dicionario['initialProps']['componentProps']['product']\n",
    "        \n",
    "        # Dicionário com os resultados\n",
    "        resultados = {    \n",
    "        'id': informacoes['id'], \n",
    "        'nome': informacoes['name'], \n",
    "        'sku': informacoes['sku'], \n",
    "        'descricao': informacoes['description'],\n",
    "        'imagem': f'https://static.paodeacucar.com{informacoes['thumbPath']}'\n",
    "        }\n",
    "        \n",
    "        informacoes2 = informacoes['attributeGroups'][2]['attributes']\n",
    "        \n",
    "        # Códigos dos dados que queremos extrair\n",
    "        codes_desejados = ['Marca', 'alturaProduto', 'larguraProduto', 'pesoBruto', 'unidadePesoBruto', 'profundidadeProduto']\n",
    "\n",
    "        # Extraindo os valores\n",
    "        resultados2 = {code: next((item['value'] for item in informacoes2 if item['code'] == code), None) for code in codes_desejados}\n",
    "        \n",
    "        # Adicionando ao dicionário\n",
    "        final = {**resultados, **resultados2}\n",
    "        \n",
    "        assert (\n",
    "            final['id'] == code and \n",
    "            final['alturaProduto'] != None and\n",
    "            final['larguraProduto'] != None and\n",
    "            final['pesoBruto'] != None and\n",
    "            final['unidadePesoBruto'] != None and\n",
    "            final['profundidadeProduto'] != None\n",
    "        )\n",
    "\n",
    "    except Exception as e:\n",
    "        if verbose:\n",
    "            print(f\"Erro ao extrair informações do produto {code}!\\nErro:\\n{e}\")\n",
    "            \n",
    "            if 'informacoes2' in locals():\n",
    "                print(locals()['informacoes2'])\n",
    "            elif 'informacoes' in locals():\n",
    "                print(locals()['informacoes'])\n",
    "            \n",
    "        return None\n",
    "    \n",
    "    else:\n",
    "        return final"
   ]
  },
  {
   "cell_type": "code",
   "execution_count": 42,
   "metadata": {},
   "outputs": [
    {
     "name": "stdout",
     "output_type": "stream",
     "text": [
      "{'id': 86559, 'nome': 'Azeite Português de Oliva Extra Virgem ANDORINHA Vidro 500ml', 'sku': '0669252', 'descricao': '<b> Ingredientes:</b><br> Azeite de oliva extra virgem.<br><b>NÃO CONTÉM GLÚTEN.</b><br><b>Acidez:</b><br>0,50%.', 'imagem': 'https://static.paodeacucar.com/img/uploads/1/239/673239.png', 'Marca': 'Andorinha', 'alturaProduto': '25.7', 'larguraProduto': '6.6', 'pesoBruto': '837', 'unidadePesoBruto': 'G', 'profundidadeProduto': '6.6'}\n",
      "--------------------------------------------------\n",
      "{'id': 34660, 'nome': 'Brócolis Ninja QUALITÁ 300g', 'sku': '3007808', 'descricao': 'Fonte de fibras, contém ferro, potássio, cálcio e magnésio. Também possui vitaminas A, C, E e K.<br><b>Dica de consumo:</b>\\r\\nConsumo como saladas, sopas, cremes, composição de pratos. <br><b><br><b>NÃO CONTÉM GLÚTEN.</b>', 'imagem': 'https://static.paodeacucar.com/img/uploads/1/386/24783386.jpg', 'Marca': 'Qualitá', 'alturaProduto': '10.3', 'larguraProduto': '15.3', 'pesoBruto': '412', 'unidadePesoBruto': 'G', 'profundidadeProduto': '15.6'}\n",
      "--------------------------------------------------\n",
      "{'id': 273343, 'nome': 'Massa de Tapioca DA TERRINHA  Pacote 500g', 'sku': '1021136', 'descricao': 'MASSA TAPIOCA DA TERRINHA 500G', 'imagem': 'https://static.paodeacucar.com/img/uploads/1/793/554793.jpg', 'Marca': 'Da Terrinha', 'alturaProduto': '19.6', 'larguraProduto': '15', 'pesoBruto': '512.1', 'unidadePesoBruto': 'G', 'profundidadeProduto': '3'}\n",
      "--------------------------------------------------\n",
      "{'id': 65885, 'nome': 'Filé de Peito de Frango Zip SADIA Pacote 1kg', 'sku': '1799316', 'descricao': '<b>Ingrediente:</b><br>Filé de Frango.', 'imagem': 'https://static.paodeacucar.com/img/uploads/1/999/28039999.png', 'Marca': 'Sadia', 'alturaProduto': '22', 'larguraProduto': '14', 'pesoBruto': '1.07', 'unidadePesoBruto': 'KG', 'profundidadeProduto': '7'}\n",
      "--------------------------------------------------\n",
      "{'id': 37565, 'nome': 'Café à Vácuo Torrado e Moído Tradicional MELITTA Caixa 500g', 'sku': '0561495', 'descricao': 'CAFE VACUO MELITA TRADICIONAL 500G', 'imagem': 'https://static.paodeacucar.com/img/uploads/1/486/12094486.png', 'Marca': 'Melitta', 'alturaProduto': '18.3', 'larguraProduto': '11.1', 'pesoBruto': '538.7', 'unidadePesoBruto': 'G', 'profundidadeProduto': '6.5'}\n",
      "--------------------------------------------------\n",
      "{'id': 72624, 'nome': 'Mamão Papaya Granel 800g (1 Unid)', 'sku': '0259163', 'descricao': 'Rico em vitamina A, potássio e vitamina C<Br><b>Dica de consumo:</b>\\r\\nNormalmente é consumido in natura ou em forma de doces, compotas e em vitaminas<Br><b><br><b>NÃO CONTÉM GLÚTEN.</b><br>\\r\\n', 'imagem': 'https://static.paodeacucar.com/img/uploads/1/630/31860630.png', 'Marca': 'Bandeiras', 'alturaProduto': '1', 'larguraProduto': '1', 'pesoBruto': '1', 'unidadePesoBruto': 'KG', 'profundidadeProduto': '1'}\n",
      "--------------------------------------------------\n",
      "{'id': 1944, 'nome': 'Pão de Forma Tradicional Pullman 480g', 'sku': '3796832', 'descricao': ' Versátil, prático e para qualquer momento, trazendo a energia necessária para o seu dia.\\xa0Perfeito para sanduíches, torradas, receitas para o café da manhã, café da tarde, almoço e jantar.\\r\\n', 'imagem': 'https://static.paodeacucar.com/img/uploads/1/998/25003998.jpg', 'Marca': 'Pullman', 'alturaProduto': '27', 'larguraProduto': '10', 'pesoBruto': '515', 'unidadePesoBruto': 'G', 'profundidadeProduto': '10.3'}\n",
      "--------------------------------------------------\n",
      "{'id': 5639, 'nome': 'Alface Crespa Naturalmente Fresca Qualitá', 'sku': '2373423', 'descricao': '<b>Ingrediente:</b><br>Alface crespa.<br><b>NÃO CONTÉM GLÚTEN.</b>', 'imagem': 'https://static.paodeacucar.com/img/uploads/1/41/24290041.jpg', 'Marca': 'Bandeiras', 'alturaProduto': '23.52', 'larguraProduto': '19.21', 'pesoBruto': '414', 'unidadePesoBruto': 'G', 'profundidadeProduto': '14.1'}\n",
      "--------------------------------------------------\n",
      "{'id': 140452, 'nome': 'Iogurte Natural Nestlé Tradicional 170g ', 'sku': '4286912', 'descricao': '\"Descubra a pureza e a qualidade do Iogurte Natural Nestlé® Integral. Este iogurte foi pensado em todos que buscam uma experiência simples e natural.\\r\\n\\r\\nEle é feito apenas com dois ingredientes: leite e fermento, sendo uma opção para quem procura uma alimentação mais equilibrada, livre de produtos que contém diversos ingredientes. Com o Iogurte Natural Integral você pode aproveitar os benefícios do leite e do fermento de forma pura e autêntica. \\r\\n\\r\\nA versatilidade deste iogurte é outro diferencial, pois permite que seja usado conforme o gosto de cada um. Pode ser consumido puro, servido com frutas, adicionado a smoothies ou utilizado em receitas.\\r\\n\\r\\nLinha Nestlé® é tradição e qualidade!\"\\r\\n', 'imagem': 'https://static.paodeacucar.com/img/uploads/1/373/24784373.jpg', 'Marca': 'Nestlé', 'alturaProduto': '9.1', 'larguraProduto': '6.7', 'pesoBruto': '178.7', 'unidadePesoBruto': 'G', 'profundidadeProduto': '6.7'}\n",
      "--------------------------------------------------\n",
      "{'id': 146389, 'nome': 'Bisnaguinha Original PANCO Pacote 300g', 'sku': '1161632', 'descricao': '<b>Ingredientes:</b><br>Farinha de trigo enriquecida com ferro e ácido fólico, açúcar invertido, açúcar, gordura vegetal, ovo, glicose de milho, sal refinado, glúten, leite integral, estabilizantes lecitina de soja e estearoil 2-lactil lactato de cálcio, conservador propionato de cálacio e acidulante ácido ascórbico.<br><br><b>CONTÉM GLÚTEN.</b>', 'imagem': 'https://static.paodeacucar.com/img/uploads/1/355/607355.png', 'Marca': 'Panco', 'alturaProduto': '28.5', 'larguraProduto': '20.5', 'pesoBruto': '319.8', 'unidadePesoBruto': 'G', 'profundidadeProduto': '6'}\n",
      "--------------------------------------------------\n",
      "{'id': 136217, 'nome': 'Alface Americana Orgânica Taeq 250g', 'sku': '3466506', 'descricao': '<b>Ingrediente:</b><br>Alface Americana.<br><b> NÃO CONTÉM GLÚTEN.</b>', 'imagem': 'https://static.paodeacucar.com/img/uploads/1/621/23627621.png', 'Marca': 'Taeq', 'alturaProduto': '10.4', 'larguraProduto': '15.88', 'pesoBruto': '538', 'unidadePesoBruto': 'G', 'profundidadeProduto': '15.4'}\n",
      "--------------------------------------------------\n",
      "{'id': 339743, 'nome': 'Queijo Mussarela Fatiado Président 150g', 'sku': '1102447', 'descricao': '', 'imagem': 'https://static.paodeacucar.com/img/uploads/1/296/26941296.jpg', 'Marca': 'President', 'alturaProduto': '18.8', 'larguraProduto': '13.2', 'pesoBruto': '164.2', 'unidadePesoBruto': 'G', 'profundidadeProduto': '1.7'}\n",
      "--------------------------------------------------\n",
      "{'id': 106572, 'nome': 'Leite Fermentado Desnatado Adoçado YAKULT 480g com 6 Unidades', 'sku': '0255189', 'descricao': '<b>Ingredientes:</b><br> Leite desnatado e/ou leite desnatado reconstituído, açúcar, glicose, fermento lácteo e aroma.<br><b>NÃO CONTÉM GLÚTEN.</b>', 'imagem': 'https://static.paodeacucar.com/img/uploads/1/400/579400.png', 'Marca': 'Yakult', 'alturaProduto': '8.2', 'larguraProduto': '24.2', 'pesoBruto': '527.4', 'unidadePesoBruto': 'G', 'profundidadeProduto': '4'}\n",
      "--------------------------------------------------\n",
      "{'id': 82810, 'nome': 'Café em pó 3 Corações Tradicional 500g', 'sku': '0590655', 'descricao': '\"<p> Há mais de 40 anos, o Café 3 Corações Tradicional leva a mesa dos consumidores, o prazer do sabor equilibrado, forte, com aroma intenso e que promove a cada amanhecer, experiências apaixonantes ao lado de quem mais amamos. \\r\\nUm clássico com qualidade de origem mineira, trazendo de suas raízes o gosto perfeito a cada xícara. </p>\"\\r\\n', 'imagem': 'https://static.paodeacucar.com/img/uploads/1/552/28859552.png', 'Marca': '3 Corações', 'alturaProduto': '21', 'larguraProduto': '11.7', 'pesoBruto': '513.4', 'unidadePesoBruto': 'G', 'profundidadeProduto': '6.8'}\n",
      "--------------------------------------------------\n",
      "{'id': 273342, 'nome': 'Massa de Tapioca DA TERRINHA Pacote 1kg', 'sku': '1021137', 'descricao': 'MASSA TAPIOCA DA TERRINHA 1KG', 'imagem': 'https://static.paodeacucar.com/img/uploads/1/411/459411.jpg', 'Marca': 'Da Terrinha', 'alturaProduto': '28', 'larguraProduto': '15.1', 'pesoBruto': '1.016', 'unidadePesoBruto': 'KG', 'profundidadeProduto': '4.2'}\n",
      "--------------------------------------------------\n",
      "{'id': 22306, 'nome': 'Alface Lisa Hidropônica QUALITÁ Unidade', 'sku': '4320838', 'descricao': '<b>Ingrediente:</b><br>Alface Lisa.<br><b>NÃO CONTÉM GLÚTEN.</b>', 'imagem': 'https://static.paodeacucar.com/img/uploads/1/326/494326.jpg', 'Marca': 'Bandeiras', 'alturaProduto': '26.5', 'larguraProduto': '26.5', 'pesoBruto': '100', 'unidadePesoBruto': 'G', 'profundidadeProduto': '26.5'}\n",
      "--------------------------------------------------\n",
      "{'id': 92002, 'nome': 'Morango Nacional Bandeja 250g', 'sku': '2136448', 'descricao': '', 'imagem': 'https://static.paodeacucar.com/img/uploads/1/262/25022262.jpg', 'Marca': 'Genérico', 'alturaProduto': '1', 'larguraProduto': '1', 'pesoBruto': '250', 'unidadePesoBruto': 'G', 'profundidadeProduto': '1'}\n",
      "--------------------------------------------------\n",
      "{'id': 134405, 'nome': 'Trio Rúcula/Agrião/Alface Crespa Hidropônico QUALITÁ Unidade', 'sku': '4758761', 'descricao': '<b>Ingredientes:</b><br>Rúcula, agrião e alface crespa.<br><b>NÃO CONTÉM GLÚTEN.</b>', 'imagem': 'https://static.paodeacucar.com/img/uploads/1/342/538342.jpg', 'Marca': 'Bandeiras', 'alturaProduto': '30.41', 'larguraProduto': '18.01', 'pesoBruto': '360', 'unidadePesoBruto': 'G', 'profundidadeProduto': '10.3'}\n",
      "--------------------------------------------------\n",
      "{'id': 43804, 'nome': 'Creme de Leite Nestlé 200g', 'sku': '0783682', 'descricao': 'O Creme de Leite Nestlé® com 17% de gordura é um produto pronto para consumo e utilizado em preparações alimentícias, sendo ideal para o preparo de pratos doces e salgados, trazendo ainda mais cremosidade!', 'imagem': 'https://static.paodeacucar.com/img/uploads/1/845/670845.jpg', 'Marca': 'Nestlé', 'alturaProduto': '8.6', 'larguraProduto': '6.6', 'pesoBruto': '209', 'unidadePesoBruto': 'G', 'profundidadeProduto': '4'}\n",
      "--------------------------------------------------\n",
      "{'id': 55763, 'nome': 'Azeite de Oliva Extra Virgem Clássico Espanhol Borges Vidro 500ml', 'sku': '0997522', 'descricao': '<b>Ingredientes:</b><br>Azeite extra virgem extraído de azeitonas.', 'imagem': 'https://static.paodeacucar.com/img/uploads/1/240/673240.jpg', 'Marca': 'Borges', 'alturaProduto': '25.5', 'larguraProduto': '6', 'pesoBruto': '778.9', 'unidadePesoBruto': 'G', 'profundidadeProduto': '6'}\n",
      "--------------------------------------------------\n",
      "{'id': 245703, 'nome': 'Ovos Caipira Grande Qualitá Bandeja 10 Unidades', 'sku': '1008488', 'descricao': '', 'imagem': 'https://static.paodeacucar.com/img/uploads/1/603/26668603.jpg', 'Marca': 'Qualitá', 'alturaProduto': '8', 'larguraProduto': '17', 'pesoBruto': '600', 'unidadePesoBruto': 'G', 'profundidadeProduto': '26'}\n",
      "--------------------------------------------------\n",
      "{'id': 63718, 'nome': 'Alface Americana 250g', 'sku': '4688693', 'descricao': '', 'imagem': 'https://static.paodeacucar.com/img/uploads/1/462/614462.png', 'Marca': 'Generico Flv', 'alturaProduto': '27', 'larguraProduto': '20.5', 'pesoBruto': '250', 'unidadePesoBruto': 'G', 'profundidadeProduto': '4'}\n",
      "--------------------------------------------------\n",
      "{'id': 133870, 'nome': 'Escarola Unidade', 'sku': '2375830', 'descricao': '<b>Ingredientes:</b><br> Escarola.', 'imagem': 'https://static.paodeacucar.com/img/uploads/1/431/528431.jpg', 'Marca': 'Bandeiras', 'alturaProduto': '23.82', 'larguraProduto': '17.69', 'pesoBruto': '386', 'unidadePesoBruto': 'G', 'profundidadeProduto': '15.9'}\n",
      "--------------------------------------------------\n",
      "{'id': 174945, 'nome': 'Alface Crespa Higienizada QUALITÁ 170g', 'sku': '4447658', 'descricao': '<b>Ingredientes</b><br>Alface crespa higienizado.<br><b>NÃO CONTÉM GLÚTEN</b>', 'imagem': 'https://static.paodeacucar.com/img/uploads/1/828/528828.jpg', 'Marca': 'Qualitá', 'alturaProduto': '22.75', 'larguraProduto': '22.75', 'pesoBruto': '1', 'unidadePesoBruto': 'G', 'profundidadeProduto': '22.75'}\n",
      "--------------------------------------------------\n",
      "{'id': 50670, 'nome': 'Leite Condensado Integral Moça Lata 395g', 'sku': '0249966', 'descricao': 'Moça faz todas as receitas darem certo desde 1921, com seu sabor único e original, tem consistência perfeita, é sem comparação! É leite condensado obtido a partir de leite fresco, puro e integral. É um clássico no preparo de sobremesas, também é uma delícia na colher, na salada de frutas e o que mais você imaginar. Leite Condensado Integral com 8% de gordura.\\r\\n', 'imagem': 'https://static.paodeacucar.com/img/uploads/1/667/20081667.jpg', 'Marca': 'Moça', 'alturaProduto': '10', 'larguraProduto': '6.8', 'pesoBruto': '440', 'unidadePesoBruto': 'G', 'profundidadeProduto': '6.8'}\n",
      "--------------------------------------------------\n",
      "{'id': 71812, 'nome': 'Margarina Cremosa com Sal Qualy Pote 500g', 'sku': '1124354', 'descricao': '<b>Ingredientes:</b><br> Óleos vegetais líquidos e interesterificados, água, leite em pó desnatado reconstituído, soro de leite em pó desnatado reconstituído, sal, 15.000 U.I de vitamina &quot;A&quot; por kg, estabilizantes: mono e diglicerídeos de ácidos graxos (INS 471) e lecitina de soja (INS 322), conservadores: sorbato de potássio (INS 202) e benzoato de sódio (INS 211), acidulante ácido cítrico (INS 330), antioxidantes: BHT (INS 321), TBHQ (INS 319) e EDTA (INS 385), aroma idêntico ao natural de manteiga, corante betacaroteno sintético idêntico ao natural (INS 160ai) e corantes naturais: de urucum (INS 160b) e cúrcuma (INS 100). <br><br><b>NÃO CONTÉM GLÚTEN.</b><br><br><b>Imagens meramente ilustrativo.', 'imagem': 'https://static.paodeacucar.com/img/uploads/1/333/26941333.jpg', 'Marca': 'Qualy', 'alturaProduto': '8.5', 'larguraProduto': '13', 'pesoBruto': '540', 'unidadePesoBruto': 'G', 'profundidadeProduto': '10'}\n",
      "--------------------------------------------------\n",
      "{'id': 29992, 'nome': 'Manteiga Francesa com Sal PRÉSIDENT Tablete 200g', 'sku': '2436593', 'descricao': '<b>Ingredientes:</b><br> Creme de leite pasteurizado e sal.<br><b>NÃO CONTÉM GLÚTEN.</b><br><br><b>imagens meramente ilustrativa.', 'imagem': 'https://static.paodeacucar.com/img/uploads/1/627/614627.png', 'Marca': 'President', 'alturaProduto': '6.2', 'larguraProduto': '10.8', 'pesoBruto': '202.1', 'unidadePesoBruto': 'G', 'profundidadeProduto': '3.2'}\n",
      "--------------------------------------------------\n",
      "{'id': 125224, 'nome': 'Brocolis Ninja e Couve Flor QUALITÁ Bandeja 300g', 'sku': '3321195', 'descricao': '<b>Ingredientes:</b><br>Brócolis ninja e couve flor.', 'imagem': 'https://static.paodeacucar.com/img/uploads/1/279/520279.jpg', 'Marca': 'Qualitá', 'alturaProduto': '8.9', 'larguraProduto': '14.8', 'pesoBruto': '316', 'unidadePesoBruto': 'G', 'profundidadeProduto': '16.1'}\n",
      "--------------------------------------------------\n",
      "{'id': 159064, 'nome': 'Alho-Poró Qualitá', 'sku': '2374321', 'descricao': '<b>Ingredientes:</b><br> Alho porró.<br><b>NÃO CONTÉM GLÚTEN.</b>', 'imagem': 'https://static.paodeacucar.com/img/uploads/1/617/23627617.png', 'Marca': 'Bandeiras', 'alturaProduto': '39.4', 'larguraProduto': '11.31', 'pesoBruto': '148', 'unidadePesoBruto': 'G', 'profundidadeProduto': '3'}\n",
      "--------------------------------------------------\n",
      "{'id': 48824, 'nome': 'Grão de Bico Cozido a Vapor VAPZA Caixa 500g', 'sku': '0295239', 'descricao': 'GRAO BICO COZIDO VAPOR VAPZA 500G', 'imagem': 'https://static.paodeacucar.com/img/uploads/1/987/13318987.png', 'Marca': 'Vapza', 'alturaProduto': '22.5', 'larguraProduto': '12.1', 'pesoBruto': '572.5', 'unidadePesoBruto': 'G', 'profundidadeProduto': '4.4'}\n",
      "--------------------------------------------------\n",
      "{'id': 3771, 'nome': 'Bisnaguinha Egg Sponge PANCO Pacote 250g', 'sku': '0153393', 'descricao': '<b>Ingredientes:</b><br>Farinha de trigo enriquecida com ferro e ácido fólico, ovo, açúcar, margarina, gordura vegetal, leite em pó desnatado, glúten, sal refinado, emulsificante mono e diglicerídeos de ácidos graxos, conservador propionato de cálcio e aromatizante.<br><b>CONTÉM GLÚTEN.</b>', 'imagem': 'https://static.paodeacucar.com/img/uploads/1/388/615388.png', 'Marca': 'Panco', 'alturaProduto': '23', 'larguraProduto': '17.6', 'pesoBruto': '315.2', 'unidadePesoBruto': 'G', 'profundidadeProduto': '7.5'}\n",
      "--------------------------------------------------\n",
      "31\n"
     ]
    }
   ],
   "source": [
    "i = 0\n",
    "for code in lista_cod:\n",
    "    prod = get_product_info(code)\n",
    "    if prod:\n",
    "        i+=1\n",
    "        print(prod)\n",
    "        print('-'*50)\n",
    "\n",
    "print(i)"
   ]
  },
  {
   "cell_type": "code",
   "execution_count": 37,
   "metadata": {},
   "outputs": [
    {
     "data": {
      "text/plain": [
       "{'id': 86559,\n",
       " 'nome': 'Azeite Português de Oliva Extra Virgem ANDORINHA Vidro 500ml',\n",
       " 'sku': '0669252',\n",
       " 'descricao': '<b> Ingredientes:</b><br> Azeite de oliva extra virgem.<br><b>NÃO CONTÉM GLÚTEN.</b><br><b>Acidez:</b><br>0,50%.',\n",
       " 'imagem': 'https://static.paodeacucar.com/img/uploads/1/239/673239.png',\n",
       " 'Marca': 'Andorinha',\n",
       " 'alturaProduto': '25.7',\n",
       " 'larguraProduto': '6.6',\n",
       " 'pesoBruto': '837',\n",
       " 'unidadePesoBruto': 'G',\n",
       " 'profundidadeProduto': '6.6'}"
      ]
     },
     "execution_count": 37,
     "metadata": {},
     "output_type": "execute_result"
    }
   ],
   "source": [
    "get_product_info(86559)"
   ]
  }
 ],
 "metadata": {
  "kernelspec": {
   "display_name": ".venv",
   "language": "python",
   "name": "python3"
  },
  "language_info": {
   "codemirror_mode": {
    "name": "ipython",
    "version": 3
   },
   "file_extension": ".py",
   "mimetype": "text/x-python",
   "name": "python",
   "nbconvert_exporter": "python",
   "pygments_lexer": "ipython3",
   "version": "3.12.7"
  }
 },
 "nbformat": 4,
 "nbformat_minor": 2
}
