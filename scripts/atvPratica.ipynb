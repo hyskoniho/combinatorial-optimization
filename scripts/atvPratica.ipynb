{
 "cells": [
  {
   "cell_type": "code",
   "execution_count": 74,
   "metadata": {},
   "outputs": [],
   "source": [
    "import json, random"
   ]
  },
  {
   "cell_type": "code",
   "execution_count": 1,
   "metadata": {},
   "outputs": [],
   "source": [
    "from market import Market, Produto"
   ]
  },
  {
   "cell_type": "markdown",
   "metadata": {},
   "source": [
    "# Static Values"
   ]
  },
  {
   "cell_type": "code",
   "execution_count": null,
   "metadata": {},
   "outputs": [],
   "source": [
    "CART = {\n",
    "    'Altura': 65,\n",
    "    'Largura': 50,\n",
    "    'Comprimento': 80,\n",
    "    'PesoMaximo': 460*1000\n",
    "}\n",
    "\n",
    "CART['Capacidade'] = CART['Altura'] * CART['Largura'] * CART['Comprimento']\n",
    "\n",
    "CART"
   ]
  },
  {
   "cell_type": "code",
   "execution_count": 1,
   "metadata": {},
   "outputs": [],
   "source": [
    "MAX_MONEY = 2000\n",
    "MAX_ITEMS = 20\n",
    "MAX_CARTS = MAX_ITEMS*10"
   ]
  },
  {
   "cell_type": "markdown",
   "metadata": {},
   "source": [
    "# Funções"
   ]
  },
  {
   "cell_type": "code",
   "execution_count": 5,
   "metadata": {},
   "outputs": [],
   "source": [
    "m = Market(r\"C:\\Users\\Arklok\\Documents\\Projetos\\gen-algorithm\\data\\produtos.csv\")"
   ]
  },
  {
   "cell_type": "code",
   "execution_count": 78,
   "metadata": {},
   "outputs": [],
   "source": [
    "def calcular_volume(item):\n",
    "    return float(item['Altura']) * float(item['Largura']) * float(item['Profundidade'])"
   ]
  },
  {
   "cell_type": "markdown",
   "metadata": {},
   "source": [
    "# Genético"
   ]
  },
  {
   "cell_type": "code",
   "execution_count": 6,
   "metadata": {},
   "outputs": [],
   "source": [
    "# Gera um individuo\n",
    "def gerar_carrinho() -> list[int]:\n",
    "    compra = []\n",
    "\n",
    "    while len(compra) < MAX_ITEMS:\n",
    "        item: Produto = m.random()\n",
    "        compra.append(item)\n",
    "        \n",
    "    return compra"
   ]
  },
  {
   "cell_type": "code",
   "execution_count": 7,
   "metadata": {},
   "outputs": [],
   "source": [
    "compras = [gerar_carrinho() for _ in range(5)]"
   ]
  },
  {
   "cell_type": "code",
   "execution_count": null,
   "metadata": {},
   "outputs": [],
   "source": [
    "for item in compras[0]:\n",
    "    print(item)"
   ]
  },
  {
   "cell_type": "code",
   "execution_count": null,
   "metadata": {},
   "outputs": [],
   "source": [
    "for idx, compra in enumerate(compras):\n",
    "    print(f\"Compra {idx+1}:\")\n",
    "    valor_compra = 0\n",
    "    volume_compra = 0\n",
    "    \n",
    "    for item in compra:\n",
    "        print(f\"Item: {market_itens[item]['Nome']} - R$ {market_itens[item]['Preço']}\")\n",
    "        valor_compra += float(market_itens[item]['Preço'])\n",
    "        volume_compra += calcular_volume(market_itens[item])\n",
    "    \n",
    "    print('\\n')\n",
    "    print(f\"Valor total da compra: R${valor_compra}\")\n",
    "    print(f\"Volume total da compra: {volume_compra} cm³\")\n",
    "    print('\\n')"
   ]
  }
 ],
 "metadata": {
  "kernelspec": {
   "display_name": ".venv",
   "language": "python",
   "name": "python3"
  },
  "language_info": {
   "codemirror_mode": {
    "name": "ipython",
    "version": 3
   },
   "file_extension": ".py",
   "mimetype": "text/x-python",
   "name": "python",
   "nbconvert_exporter": "python",
   "pygments_lexer": "ipython3",
   "version": "3.12.7"
  }
 },
 "nbformat": 4,
 "nbformat_minor": 2
}
