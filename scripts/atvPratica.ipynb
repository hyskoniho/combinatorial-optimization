{
 "cells": [
  {
   "cell_type": "markdown",
   "metadata": {},
   "source": [
    "# Imports"
   ]
  },
  {
   "cell_type": "code",
   "execution_count": 1,
   "metadata": {},
   "outputs": [],
   "source": [
    "import json, random"
   ]
  },
  {
   "cell_type": "code",
   "execution_count": 2,
   "metadata": {},
   "outputs": [],
   "source": [
    "from market import Market, Produto"
   ]
  },
  {
   "cell_type": "markdown",
   "metadata": {},
   "source": [
    "# Static Values"
   ]
  },
  {
   "cell_type": "code",
   "execution_count": null,
   "metadata": {},
   "outputs": [],
   "source": [
    "CART: dict = {\n",
    "    'Altura': 65,\n",
    "    'Largura': 50,\n",
    "    'Comprimento': 80,\n",
    "    'PesoMaximo': 460*1000\n",
    "}\n",
    "\n",
    "CART['Capacidade'] = CART['Altura'] * CART['Largura'] * CART['Comprimento']\n",
    "\n",
    "CART"
   ]
  },
  {
   "cell_type": "code",
   "execution_count": 4,
   "metadata": {},
   "outputs": [],
   "source": [
    "MAX_MONEY: float = 2500.0\n",
    "MAX_ITEMS: int = 20\n",
    "MAX_CARTS: int = MAX_ITEMS*10\n",
    "MAX_GENERATIONS: int = 100\n",
    "BESTS: int = 15"
   ]
  },
  {
   "cell_type": "markdown",
   "metadata": {},
   "source": [
    "# Funções"
   ]
  },
  {
   "cell_type": "code",
   "execution_count": 5,
   "metadata": {},
   "outputs": [],
   "source": [
    "m: Market = Market(r\"C:\\Users\\Arklok\\Documents\\Projetos\\gen-algorithm\\data\\produtos.csv\")"
   ]
  },
  {
   "cell_type": "markdown",
   "metadata": {},
   "source": [
    "# Genético"
   ]
  },
  {
   "cell_type": "markdown",
   "metadata": {},
   "source": [
    "### Geração de Indivíduos"
   ]
  },
  {
   "cell_type": "code",
   "execution_count": 6,
   "metadata": {},
   "outputs": [],
   "source": [
    "def gerar_carrinho(tamanho: int = globals()['MAX_ITEMS']) -> list[Produto]:\n",
    "    compra = []\n",
    "\n",
    "    while len(compra) < tamanho:\n",
    "        item: Produto = m.random()\n",
    "        compra.append(item)\n",
    "        \n",
    "    return compra"
   ]
  },
  {
   "cell_type": "code",
   "execution_count": null,
   "metadata": {},
   "outputs": [],
   "source": [
    "c: list[Produto] = gerar_carrinho()\n",
    "c"
   ]
  },
  {
   "cell_type": "markdown",
   "metadata": {},
   "source": [
    "### Geração de População Inicial"
   ]
  },
  {
   "cell_type": "code",
   "execution_count": 8,
   "metadata": {},
   "outputs": [],
   "source": [
    "def gerar_populacao(tamanho: int = globals()['MAX_CARTS']) -> list[list[Produto]]:\n",
    "    return [gerar_carrinho() for _ in range(tamanho)]"
   ]
  },
  {
   "cell_type": "code",
   "execution_count": null,
   "metadata": {},
   "outputs": [],
   "source": [
    "p: list[list[Produto]] = gerar_populacao()\n",
    "p"
   ]
  },
  {
   "cell_type": "markdown",
   "metadata": {},
   "source": [
    "### Avaliação"
   ]
  },
  {
   "cell_type": "code",
   "execution_count": 10,
   "metadata": {},
   "outputs": [],
   "source": [
    "# def avaliar(individuo: list[Produto], valor_limite: float = globals()['MAX_MONEY']) -> float:\n",
    "#     valor_compra: float = 0.0\n",
    "    \n",
    "#     for item in individuo:\n",
    "#         valor_compra += item.price\n",
    "\n",
    "#     if valor_compra > valor_limite:\n",
    "#         return float('inf')\n",
    "    \n",
    "#     else:\n",
    "#         return valor_compra"
   ]
  },
  {
   "cell_type": "code",
   "execution_count": 11,
   "metadata": {},
   "outputs": [],
   "source": [
    "def avaliar(individuo: list[Produto], \n",
    "            valor_limite: float = globals()['MAX_MONEY'], \n",
    "            max_peso: float = CART['PesoMaximo'], \n",
    "            max_volume: float = CART['Capacidade'],\n",
    "            max_itens: int = globals()['MAX_ITEMS']\n",
    "            ) -> float:\n",
    "\n",
    "    valor_compra: float = 0.0\n",
    "    peso_total: float = 0.0\n",
    "    volume_total: float = 0.0\n",
    "    categorias: set = set()\n",
    "    repeticoes: int = 0\n",
    "\n",
    "    for item in individuo:\n",
    "        valor_compra += item.price\n",
    "        peso_total += item.weight\n",
    "        volume_item = item.height * item.width * item.depth\n",
    "        volume_total += volume_item\n",
    "        \n",
    "        categorias.add(item.category)\n",
    "        \n",
    "        # Contar repetições de produtos\n",
    "        if individuo.count(item) > 1:\n",
    "            repeticoes += 1\n",
    "\n",
    "    # Penalidades\n",
    "    nota = 0.0\n",
    "\n",
    "    # Penalidade por exceder o limite de dinheiro\n",
    "    if valor_compra > valor_limite:\n",
    "        nota += (valor_compra - valor_limite) * 10  # Ajuste de penalidade\n",
    "    \n",
    "    # Penalidade por excesso de peso\n",
    "    if peso_total > max_peso:\n",
    "        nota += (peso_total - max_peso) * 15  # Ajuste de penalidade\n",
    "\n",
    "    # Penalidade por excesso de volume\n",
    "    if volume_total > max_volume:\n",
    "        nota += (volume_total - max_volume) * 20  # Ajuste de penalidade\n",
    "\n",
    "    # Penalidade por número excessivo de itens\n",
    "    if len(individuo) > max_itens:\n",
    "        nota += (len(individuo) - max_itens) * 5  # Ajuste de penalidade\n",
    "\n",
    "    # Penalidade por repetição de produtos\n",
    "    nota += repeticoes * 10  # Penalidade por cada produto repetido\n",
    "\n",
    "    # Incentivo pela diversidade de categorias\n",
    "    nota -= len(categorias) * 5  # Deduz nota pela diversidade de categorias\n",
    "\n",
    "    # Final result is the total cost plus penalizations\n",
    "    return valor_compra + nota\n"
   ]
  },
  {
   "cell_type": "code",
   "execution_count": null,
   "metadata": {},
   "outputs": [],
   "source": [
    "n: float = avaliar(c)\n",
    "n"
   ]
  },
  {
   "cell_type": "code",
   "execution_count": 13,
   "metadata": {},
   "outputs": [],
   "source": [
    "def mapear_notas(populacao: list[list[Produto]], order: str = 'asc') -> dict[float, list[Produto]]:\n",
    "    notas: dict = {avaliar(individuo): individuo for individuo in populacao}\n",
    "    \n",
    "    if order == 'asc':\n",
    "        return dict(sorted(notas.items()))\n",
    "    \n",
    "    else:\n",
    "        return dict(sorted(notas.items(), reverse=True))"
   ]
  },
  {
   "cell_type": "code",
   "execution_count": null,
   "metadata": {},
   "outputs": [],
   "source": [
    "nt: dict[float, list[Produto]] = mapear_notas(p)\n",
    "nt"
   ]
  },
  {
   "cell_type": "markdown",
   "metadata": {},
   "source": [
    "### Seleção"
   ]
  },
  {
   "cell_type": "code",
   "execution_count": 15,
   "metadata": {},
   "outputs": [],
   "source": [
    "def torneio(populacao: list[list[Produto]]) -> list[list[Produto]]:\n",
    "    vencedores: list[list[Produto] | None] = []\n",
    "    \n",
    "    while len(vencedores) < 2:\n",
    "        competidor_1: list[Produto] = random.choice(populacao)\n",
    "        competidor_2: list[Produto] = random.choice(populacao)\n",
    "                \n",
    "        # Seleção do melhor individuo:\n",
    "        if avaliar(competidor_1) < avaliar(competidor_2):\n",
    "            vencedor: list[Produto] = competidor_1\n",
    "        \n",
    "        else:\n",
    "            vencedor: list[Produto] = competidor_2\n",
    "            \n",
    "        if vencedor not in vencedores:\n",
    "            vencedores.append(vencedor)\n",
    "    \n",
    "    return vencedores"
   ]
  },
  {
   "cell_type": "code",
   "execution_count": null,
   "metadata": {},
   "outputs": [],
   "source": [
    "v: list[list[Produto]] = torneio(p)\n",
    "v"
   ]
  },
  {
   "cell_type": "code",
   "execution_count": 17,
   "metadata": {},
   "outputs": [],
   "source": [
    "def eugenia(populacao: list[list[Produto]], order: str = 'asc') -> list[list[Produto]]:\n",
    "    notas: dict[float, list[Produto]] = mapear_notas(populacao, order)\n",
    "    melhores: list[list[Produto]] = list(notas.values())[:globals()['BESTS']]\n",
    "    \n",
    "    return melhores"
   ]
  },
  {
   "cell_type": "code",
   "execution_count": null,
   "metadata": {},
   "outputs": [],
   "source": [
    "e: list[list[Produto]] = eugenia(p)\n",
    "e"
   ]
  },
  {
   "cell_type": "markdown",
   "metadata": {},
   "source": [
    "### Crossover e Mutação"
   ]
  },
  {
   "cell_type": "code",
   "execution_count": 19,
   "metadata": {},
   "outputs": [],
   "source": [
    "def cruzamento(pais: list[list[Produto]], chance: float = 0.8) -> list[list[Produto]]:\n",
    "    pai_1: list[Produto] = pais[0]\n",
    "    pai_2: list[Produto] = pais[1]\n",
    "\n",
    "    probabilidade: float = round(random.uniform(0, 1), 2)\n",
    "\n",
    "    if probabilidade < chance:\n",
    "        pos: int = random.randint(0, len(pai_1))\n",
    "\n",
    "        filho_1: list[Produto] = pai_1[:pos] + pai_2[pos:]\n",
    "        filho_2: list[Produto] = pai_2[:pos] + pai_1[pos:]\n",
    "\n",
    "        return [filho_1, filho_2]\n",
    "\n",
    "    else:\n",
    "        return [pai_1, pai_2]"
   ]
  },
  {
   "cell_type": "code",
   "execution_count": null,
   "metadata": {},
   "outputs": [],
   "source": [
    "f: list[list[Produto]] = cruzamento(v)\n",
    "f"
   ]
  },
  {
   "cell_type": "code",
   "execution_count": 21,
   "metadata": {},
   "outputs": [],
   "source": [
    "def mutar(populacao: list[list[Produto]], chance = 0.05) -> list[list[Produto]]: \n",
    "    mutados: list[list[Produto]] = []\n",
    "\n",
    "    for individuo in populacao:\n",
    "        for pos, alelo in enumerate(individuo):\n",
    "            mutacao: float = round(random.uniform(0, 1), 3)\n",
    "\n",
    "            if mutacao < chance:\n",
    "                novo_gene: str = m.random(ignore_case=[alelo,]) \n",
    "                individuo: str = f'{individuo[:pos]}{novo_gene}{individuo[pos+1:]}'\n",
    "\n",
    "        mutados.append(individuo)\n",
    "    \n",
    "    return mutados"
   ]
  },
  {
   "cell_type": "code",
   "execution_count": null,
   "metadata": {},
   "outputs": [],
   "source": [
    "mt: list[list[Produto]] = mutar(p)\n",
    "mt"
   ]
  },
  {
   "cell_type": "markdown",
   "metadata": {},
   "source": [
    "# Execução Principal"
   ]
  },
  {
   "cell_type": "code",
   "execution_count": 23,
   "metadata": {},
   "outputs": [],
   "source": [
    "if __name__ == '__main__':\n",
    "    g: int = 0\n",
    "    \n",
    "    while g < MAX_GENERATIONS:\n",
    "        g+=1\n",
    "\n",
    "        populacao_inicial: list[list[Produto]] = gerar_populacao()\n",
    "        populacao_atual: list[list[Produto]] = populacao_inicial.copy()\n",
    "        geracao: list[list[Produto]] = []\n",
    "\n",
    "        while len(geracao) < MAX_CARTS - BESTS:\n",
    "            notas: dict[float, list[Produto]] = mapear_notas(populacao_atual)\n",
    "            \n",
    "            pais: list[list[Produto]] = torneio(populacao_atual)\n",
    "            filhos: list[list[Produto]] = cruzamento(pais)\n",
    "            geracao.extend(filhos)\n",
    "            \n",
    "        geracao.extend(eugenia(populacao_atual))\n",
    "        \n",
    "        # print(f'Geração: {g} | Melhor: {notas[min(notas.keys())]}')\n",
    "        populacao_atual: list[list[Produto]] = geracao.copy()"
   ]
  },
  {
   "cell_type": "code",
   "execution_count": null,
   "metadata": {},
   "outputs": [],
   "source": [
    "for item in eugenia(populacao_atual)[0]:\n",
    "    print(str(item))\n",
    "    item.show()"
   ]
  }
 ],
 "metadata": {
  "kernelspec": {
   "display_name": ".venv",
   "language": "python",
   "name": "python3"
  },
  "language_info": {
   "codemirror_mode": {
    "name": "ipython",
    "version": 3
   },
   "file_extension": ".py",
   "mimetype": "text/x-python",
   "name": "python",
   "nbconvert_exporter": "python",
   "pygments_lexer": "ipython3",
   "version": "3.12.7"
  }
 },
 "nbformat": 4,
 "nbformat_minor": 2
}
