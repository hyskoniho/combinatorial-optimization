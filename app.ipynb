{
 "cells": [
  {
   "cell_type": "code",
   "execution_count": 47,
   "metadata": {},
   "outputs": [],
   "source": [
    "def avaliar(palavra_teste: str, max: bool = True) -> float | int:\n",
    "    \"\"\"ESTA FUNCAO GERA UM VALOR BASEADO NA DIFERENCA DOS VALORES ASCII DAS PALAVRA\"\"\"\n",
    "\n",
    "    palavra_alvo: str = 'artificial'\n",
    "    nota: int = 0\n",
    "\n",
    "    for caractere_teste, caractere_alvo in zip(palavra_teste, palavra_alvo):\n",
    "        ascii_teste = ord(caractere_teste) # Valor inteiro ascii do caractere teste\n",
    "        ascii_alvo = ord(caractere_alvo) # Valor inteiro ascii do caractere alvo\n",
    "\n",
    "        distancia_quadratica = (ascii_teste - ascii_alvo)**2 # faz o quadradinho\n",
    "\n",
    "        nota+=(distancia_quadratica) # soma a nota\n",
    "    \n",
    "    return 1/nota if max else nota"
   ]
  },
  {
   "cell_type": "code",
   "execution_count": 15,
   "metadata": {},
   "outputs": [],
   "source": [
    "def generate_pop(length: int, quantity: int) -> list[str]:\n",
    "    import random\n",
    "    pl = []\n",
    "    \n",
    "    for x in range(quantity):\n",
    "        word = ''\n",
    "\n",
    "        for y in range(length):\n",
    "            word+=random.choice('abcdefghijklmnopqrstuvwxyz')\n",
    "\n",
    "        pl.append(word)\n",
    "    \n",
    "    return pl"
   ]
  },
  {
   "cell_type": "code",
   "execution_count": 36,
   "metadata": {},
   "outputs": [],
   "source": [
    "population = generate_pop(10, 100)"
   ]
  },
  {
   "cell_type": "code",
   "execution_count": 44,
   "metadata": {},
   "outputs": [],
   "source": [
    "dicionario_notas = {}\n",
    "for value in population:\n",
    "    dicionario_notas[value] = avaliar(value)"
   ]
  },
  {
   "cell_type": "code",
   "execution_count": 46,
   "metadata": {},
   "outputs": [
    {
     "data": {
      "text/plain": [
       "{'zmykwrvywz': 0.00042625745950554135,\n",
       " 'ypdzquuuny': 0.0004553734061930783,\n",
       " 'ytkzlszcvg': 0.0004723665564478035,\n",
       " 'ygrgpezxwr': 0.00047732696897374703,\n",
       " 'mbbwkpqczx': 0.0005012531328320802,\n",
       " 'yhvbsaystg': 0.0005175983436853002,\n",
       " 'ughnwzafxe': 0.0005379236148466917,\n",
       " 'sbaoohfxvp': 0.0005714285714285715,\n",
       " 'tpubyoymuo': 0.0005810575246949448,\n",
       " 'fobuzrdbxv': 0.0006016847172081829,\n",
       " 'uagwaqnupq': 0.0006031363088057901,\n",
       " 'ttjvjecxxz': 0.0006188118811881188,\n",
       " 'twfduuymkq': 0.0006246096189881324,\n",
       " 'idyvakwjzu': 0.0006289308176100629,\n",
       " 'xzfhppvfpr': 0.0006369426751592356,\n",
       " 'vcjqcvawqc': 0.0006472491909385113,\n",
       " 'kgypkkyvtz': 0.000651890482398957,\n",
       " 'szexwrkjpg': 0.0006565988181221273,\n",
       " 'xdhjzhaxch': 0.0006578947368421052,\n",
       " 'xjvvibfnvy': 0.0006811989100817438,\n",
       " 'wumizevfba': 0.000689655172413793,\n",
       " 'oyhvzepdqp': 0.0006944444444444445,\n",
       " 'qfzyuweeqs': 0.0006954102920723226,\n",
       " 'xvgxkugcou': 0.0006958942240779402,\n",
       " 'zeqoetfzfx': 0.0007002801120448179,\n",
       " 'uipzawnlna': 0.000700770847932726,\n",
       " 'zhfafumolr': 0.0007032348804500703,\n",
       " 'kwghwmzwgm': 0.0007342143906020558,\n",
       " 'nphvbjhzxp': 0.0007342143906020558,\n",
       " 'ocfkrvbfrw': 0.0007385524372230429,\n",
       " 'ivavymsphj': 0.0007434944237918215,\n",
       " 'hbogwprssp': 0.0007479431563201197,\n",
       " 'oqradgulzu': 0.0007621951219512195,\n",
       " 'jorynvuvnr': 0.00078064012490242,\n",
       " 'eoouluzapu': 0.0007855459544383347,\n",
       " 'vggawoesfj': 0.0007980845969672786,\n",
       " 'csfpwspptg': 0.0008045052292839903,\n",
       " 'bicswbisqg': 0.0008156606851549756,\n",
       " 'nfibhdocxn': 0.0008163265306122449,\n",
       " 'wvoxmzfiit': 0.0008163265306122449,\n",
       " 'yjqgcjsnou': 0.000819000819000819,\n",
       " 'uggbiegbrv': 0.0008210180623973727,\n",
       " 'vidhjoscft': 0.0008250825082508251,\n",
       " 'jtftsfhcuy': 0.0008264462809917355,\n",
       " 'znyqkkiptk': 0.0008291873963515755,\n",
       " 'rokgoeyxdk': 0.0008340283569641367,\n",
       " 'kbbmxnhmfu': 0.0008389261744966443,\n",
       " 'uavexaadad': 0.0008403361344537816,\n",
       " 'egrrxwuggu': 0.0008424599831508003,\n",
       " 'lnedrfyelq': 0.0008431703204047217,\n",
       " 'lhgsepxseu': 0.0008488964346349745,\n",
       " 'tryvzopido': 0.0008488964346349745,\n",
       " 'bvqflwcxzf': 0.0008673026886383347,\n",
       " 'jrlhkyxilx': 0.00088261253309797,\n",
       " 'eeaqrggnpv': 0.0008896797153024911,\n",
       " 'gkpoynwakf': 0.0008904719501335708,\n",
       " 'lzkmaxaawq': 0.0009017132551848512,\n",
       " 'dupgdmuazf': 0.0009033423667570009,\n",
       " 'jmjyctvtfj': 0.0009066183136899365,\n",
       " 'kgtrzcoloi': 0.0009124087591240876,\n",
       " 'agijxfjcrx': 0.0009140767824497258,\n",
       " 'uhynmbuocc': 0.0009149130832570906,\n",
       " 'jsqjrbrruv': 0.0009165902841429881,\n",
       " 'jharkwdlix': 0.0009416195856873823,\n",
       " 'ultlzkloau': 0.0009551098376313276,\n",
       " 'sjgdarfenx': 0.0009746588693957114,\n",
       " 'mezednxucf': 0.0009813542688910696,\n",
       " 'mnmrcfpfxk': 0.000984251968503937,\n",
       " 'mzmmhxjxnr': 0.0010193679918450561,\n",
       " 'pihlawbvfu': 0.0010460251046025104,\n",
       " 'qnkaddvqim': 0.0010683760683760685,\n",
       " 'aruxzxbeho': 0.0010799136069114472,\n",
       " 'qbpdeycqbe': 0.0010822510822510823,\n",
       " 'tujozgbjaj': 0.001091703056768559,\n",
       " 'cbfkqilpcy': 0.0011312217194570137,\n",
       " 'rnkujmlrlr': 0.0011350737797956867,\n",
       " 'cqscnczsjg': 0.0011402508551881414,\n",
       " 'kgwdqoeyfy': 0.0011547344110854503,\n",
       " 'ywpechewbh': 0.0011627906976744186,\n",
       " 'egdvgsgudg': 0.0011668611435239206,\n",
       " 'mebktjajdk': 0.0011723329425556857,\n",
       " 'dixerxicnv': 0.001201923076923077,\n",
       " 'vttjiepgbx': 0.0012674271229404308,\n",
       " 'ajrihtjiws': 0.0012903225806451613,\n",
       " 'ctpjncygic': 0.0013192612137203166,\n",
       " 'icipkuegeb': 0.0013297872340425532,\n",
       " 'iktwjybnhc': 0.0013568521031207597,\n",
       " 'bzioglxndp': 0.0013831258644536654,\n",
       " 'hnwgvknrgx': 0.001388888888888889,\n",
       " 'gmhfonogpm': 0.001440922190201729,\n",
       " 'hptmvweafs': 0.0015082956259426848,\n",
       " 'hqmzjakjaw': 0.0015290519877675841,\n",
       " 'kokmlmqdex': 0.001564945226917058,\n",
       " 'hcqcajqffg': 0.0016666666666666668,\n",
       " 'khgliqedav': 0.0017241379310344827,\n",
       " 'uorhbjoibm': 0.0017331022530329288,\n",
       " 'ajjlfftfau': 0.0017825311942959,\n",
       " 'cnwntmjtif': 0.0018656716417910447,\n",
       " 'heiahafncg': 0.0018726591760299626,\n",
       " 'iiiagbknat': 0.001876172607879925}"
      ]
     },
     "execution_count": 46,
     "metadata": {},
     "output_type": "execute_result"
    }
   ],
   "source": [
    "{k: v for k, v in sorted(dicionario_notas.items(), key=lambda item: item[1])}"
   ]
  },
  {
   "cell_type": "code",
   "execution_count": 49,
   "metadata": {},
   "outputs": [],
   "source": [
    "def snpfc(iv1, iv2):\n",
    "    import random\n",
    "    filhos = []\n",
    "    for i in range(2):\n",
    "        filho = ''\n",
    "\n",
    "        for ch1, ch2 in zip(iv1, iv2):\n",
    "            filho+=random.choice([ch1, ch2])\n",
    "\n",
    "        filhos.append(filho)\n",
    "        \n",
    "    return filhos\n"
   ]
  },
  {
   "cell_type": "code",
   "execution_count": 50,
   "metadata": {},
   "outputs": [
    {
     "data": {
      "text/plain": [
       "['baba', 'abba']"
      ]
     },
     "execution_count": 50,
     "metadata": {},
     "output_type": "execute_result"
    }
   ],
   "source": [
    "snpfc(\"aaaa\", \"bbbb\")"
   ]
  },
  {
   "cell_type": "code",
   "execution_count": null,
   "metadata": {},
   "outputs": [],
   "source": [
    "def tournment():\n",
    "    pass"
   ]
  }
 ],
 "metadata": {
  "kernelspec": {
   "display_name": "Python 3",
   "language": "python",
   "name": "python3"
  },
  "language_info": {
   "codemirror_mode": {
    "name": "ipython",
    "version": 3
   },
   "file_extension": ".py",
   "mimetype": "text/x-python",
   "name": "python",
   "nbconvert_exporter": "python",
   "pygments_lexer": "ipython3",
   "version": "3.12.3"
  }
 },
 "nbformat": 4,
 "nbformat_minor": 2
}
