{
 "cells": [
  {
   "cell_type": "markdown",
   "metadata": {},
   "source": [
    "# Escopo do Projeto\n",
    "Construção de um algoritmo genético (heurística probabilística) para retornar resultados *aproximados* da palavra \"artificial\"."
   ]
  },
  {
   "cell_type": "markdown",
   "metadata": {},
   "source": [
    "### Bibliotecas necessárias"
   ]
  },
  {
   "cell_type": "code",
   "execution_count": 261,
   "metadata": {},
   "outputs": [],
   "source": [
    "import random\n",
    "import string"
   ]
  },
  {
   "cell_type": "markdown",
   "metadata": {},
   "source": [
    "### Geração de um Gene"
   ]
  },
  {
   "cell_type": "code",
   "execution_count": 262,
   "metadata": {},
   "outputs": [],
   "source": [
    "def gene(remove: list = []) -> str:\n",
    "    alfabeto = string.ascii_lowercase\n",
    "    alfabeto = list(alfabeto)\n",
    "    for i in remove:\n",
    "        alfabeto.remove(i)\n",
    "    return random.choice(alfabeto) if len(alfabeto) > 0 else None"
   ]
  },
  {
   "cell_type": "markdown",
   "metadata": {},
   "source": [
    "### Geração da População"
   ]
  },
  {
   "cell_type": "code",
   "execution_count": 263,
   "metadata": {},
   "outputs": [],
   "source": [
    "def gerar_populacao(length: int, quantity: int) -> list[str]:\n",
    "    pl = []\n",
    "    \n",
    "    for x in range(quantity):\n",
    "        word = ''\n",
    "\n",
    "        for y in range(length):\n",
    "            word+=gene()\n",
    "\n",
    "        pl.append(word)\n",
    "    \n",
    "    return pl"
   ]
  },
  {
   "cell_type": "code",
   "execution_count": 264,
   "metadata": {},
   "outputs": [],
   "source": [
    "populacao: list[str] = gerar_populacao(10, 100)"
   ]
  },
  {
   "cell_type": "markdown",
   "metadata": {},
   "source": [
    "### Função de avaliação do indivíduo"
   ]
  },
  {
   "cell_type": "code",
   "execution_count": 265,
   "metadata": {},
   "outputs": [],
   "source": [
    "def avaliar(individuo: str, max: bool = True) -> float | int:\n",
    "    \"\"\"ESTA FUNCAO GERA UM VALOR BASEADO NA DIFERENCA DOS VALORES ASCII DAS PALAVRA\"\"\"\n",
    "\n",
    "    palavra_alvo: str = 'artificial'\n",
    "    nota: int = 0\n",
    "\n",
    "    for caractere_teste, caractere_alvo in zip(individuo, palavra_alvo):\n",
    "        ascii_teste = ord(caractere_teste) # Valor inteiro ascii do caractere teste\n",
    "        ascii_alvo = ord(caractere_alvo) # Valor inteiro ascii do caractere alvo\n",
    "\n",
    "        distancia_quadratica = (ascii_teste - ascii_alvo)**2 # faz o quadradinho\n",
    "\n",
    "        nota+=(distancia_quadratica) # soma a nota\n",
    "    \n",
    "    return 1/nota if max and nota != 0 else nota"
   ]
  },
  {
   "cell_type": "markdown",
   "metadata": {},
   "source": [
    "##### Cria um dicionário para armazenar as notas dos indivíduos e tornar mais fácil o seu acesso"
   ]
  },
  {
   "cell_type": "code",
   "execution_count": 266,
   "metadata": {},
   "outputs": [
    {
     "data": {
      "text/plain": [
       "{'rakmcwjxax': 0.0007704160246533128,\n",
       " 'hyuhebepmf': 0.0026109660574412533,\n",
       " 'xshuabvbbx': 0.000691085003455425,\n",
       " 'pkpkxdmsaj': 0.0011806375442739079,\n",
       " 'ugnibxzdnu': 0.0006242197253433209,\n",
       " 'ackeomlmkp': 0.0015822784810126582,\n",
       " 'hatflqnamx': 0.0010869565217391304,\n",
       " 'earvxhpqel': 0.0009505703422053232,\n",
       " 'wzcqjonsbm': 0.0008503401360544217,\n",
       " 'bryzbshxgb': 0.0012239902080783353,\n",
       " 'ykyxuapyhb': 0.0005753739930955121,\n",
       " 'elbrsyrnxt': 0.0005797101449275362,\n",
       " 'arhqtsglgm': 0.0017667844522968198,\n",
       " 'ypbmrtzbpf': 0.0004940711462450593,\n",
       " 'nlbgckrehs': 0.0011299435028248588,\n",
       " 'krdxczgxds': 0.0008488964346349745,\n",
       " 'gipimqepzn': 0.0010775862068965517,\n",
       " 'fqtbxbivia': 0.0011933174224343676,\n",
       " 'jdnzmkfafo': 0.0013123359580052493,\n",
       " 'tqysqeigmc': 0.0011248593925759281,\n",
       " 'okfewpffpw': 0.0008628127696289905,\n",
       " 'ycjtveoxqz': 0.00047281323877068556,\n",
       " 'pvktnprwbe': 0.0009737098344693282,\n",
       " 'yzjbeditht': 0.0009216589861751152,\n",
       " 'weutjdjgum': 0.0007874015748031496,\n",
       " 'jcvxftpjov': 0.00089126559714795,\n",
       " 'swxrafrzyy': 0.0005750431282346176,\n",
       " 'drdqkelbym': 0.0009285051067780873,\n",
       " 'ivvmeoxeno': 0.0012953367875647669,\n",
       " 'lscfozszvr': 0.0005518763796909492,\n",
       " 'resaqmnfio': 0.0011587485515643105,\n",
       " 'gzckwuezle': 0.0007757951900698216,\n",
       " 'hflzkvtrbf': 0.0008718395815170009,\n",
       " 'pqorvrjvxs': 0.0006825938566552901,\n",
       " 'xnxnfmtace': 0.000992063492063492,\n",
       " 'hgynwmyfri': 0.0007598784194528875,\n",
       " 'ewurpqyupm': 0.0008764241893076249,\n",
       " 'qnyfgdziif': 0.001040582726326743,\n",
       " 'afucdrqjav': 0.0017761989342806395,\n",
       " 'ostrpxowzv': 0.0005995203836930455,\n",
       " 'smqfaiglmq': 0.0017064846416382253,\n",
       " 'esexcxoarn': 0.0008319467554076539,\n",
       " 'gqncukycnv': 0.0008873114463176575,\n",
       " 'wmdjonywpw': 0.0005268703898840885,\n",
       " 'qwxckujbmu': 0.0012121212121212121,\n",
       " 'mezxuwhbsc': 0.0006784260515603799,\n",
       " 'ijzgrzaqrx': 0.0009074410163339383,\n",
       " 'wsqosmvejm': 0.0008517887563884157,\n",
       " 'ijqaisjpfn': 0.002288329519450801,\n",
       " 'qfxffgzmef': 0.0009746588693957114,\n",
       " 'toioukbsqe': 0.0008605851979345956,\n",
       " 'slosvuhnlb': 0.0008650519031141869,\n",
       " 'gdwrfvmpun': 0.0009578544061302681,\n",
       " 'kmkqkbirvr': 0.0010660980810234541,\n",
       " 'ehaeesozvt': 0.0006527415143603133,\n",
       " 'zqtoqgojgy': 0.0008795074758135445,\n",
       " 'zinbosuwqt': 0.0005518763796909492,\n",
       " 'xenxpcgxkn': 0.0006944444444444445,\n",
       " 'xldmcagqxs': 0.0006377551020408163,\n",
       " 'kunadeghkr': 0.002617801047120419,\n",
       " 'vztozeitwt': 0.0006016847172081829,\n",
       " 'hsaptokhov': 0.000949667616334283,\n",
       " 'libiypzawv': 0.000473260766682442,\n",
       " 'wksjrcpwgx': 0.0007936507936507937,\n",
       " 'efsgeezhec': 0.0012360939431396785,\n",
       " 'gmgowucdgr': 0.001256281407035176,\n",
       " 'hgghrmgzmr': 0.0010152284263959391,\n",
       " 'iciwlgkcje': 0.001141552511415525,\n",
       " 'mlhgrimmmy': 0.0011098779134295228,\n",
       " 'fdqhpxzhxa': 0.000576036866359447,\n",
       " 'vsmofrjvpm': 0.0009505703422053232,\n",
       " 'entanhtgap': 0.002127659574468085,\n",
       " 'eijfhhxppm': 0.0010787486515641855,\n",
       " 'jtigltqrjk': 0.0013774104683195593,\n",
       " 'vlxnylzjyt': 0.00048590864917395527,\n",
       " 'dgxbfzsilk': 0.001160092807424594,\n",
       " 'amiwgmxiyp': 0.0007183908045977011,\n",
       " 'inqmcxpcgi': 0.001697792869269949,\n",
       " 'ftgqkitscn': 0.0014619883040935672,\n",
       " 'uwbtbpguvu': 0.0006184291898577613,\n",
       " 'gshgtjwfcp': 0.0012330456226880395,\n",
       " 'wsbfhikrsa': 0.000708215297450425,\n",
       " 'utaezkikub': 0.0005797101449275362,\n",
       " 'lhifhrclff': 0.001976284584980237,\n",
       " 'vamckikomz': 0.00078125,\n",
       " 'taqgfjnilq': 0.0010741138560687433,\n",
       " 'gkcdmltpsg': 0.0008741258741258741,\n",
       " 'nlfdtshfec': 0.0011723329425556857,\n",
       " 'qyggpiulfh': 0.0010504201680672268,\n",
       " 'cikushjfrh': 0.0011862396204033216,\n",
       " 'eadbqzxmqa': 0.0005393743257820927,\n",
       " 'ejwpmmmisf': 0.0015082956259426848,\n",
       " 'xuyzrbkftb': 0.0006333122229259025,\n",
       " 'ggzoaqzvwd': 0.0006393861892583121,\n",
       " 'hdglsrhgqn': 0.0010395010395010396,\n",
       " 'qmdomacagc': 0.0011534025374855825,\n",
       " 'cowxcvfjwc': 0.001,\n",
       " 'luvedbeuei': 0.0026595744680851063,\n",
       " 'qqlftqsfwq': 0.0007331378299120235,\n",
       " 'ydahyxhkcf': 0.0005589714924538849}"
      ]
     },
     "execution_count": 266,
     "metadata": {},
     "output_type": "execute_result"
    }
   ],
   "source": [
    "def notas(populacao: list[str]) -> dict[str, float]:\n",
    "    dicionario_notas = {}\n",
    "    for individuo in populacao:\n",
    "        dicionario_notas[individuo] = avaliar(individuo)\n",
    "    return dicionario_notas\n",
    "\n",
    "dicionario_notas = notas(populacao)\n",
    "dicionario_notas"
   ]
  },
  {
   "cell_type": "code",
   "execution_count": 267,
   "metadata": {},
   "outputs": [
    {
     "data": {
      "text/plain": [
       "{'luvedbeuei': 0.0026595744680851063,\n",
       " 'kunadeghkr': 0.002617801047120419,\n",
       " 'hyuhebepmf': 0.0026109660574412533,\n",
       " 'ijqaisjpfn': 0.002288329519450801,\n",
       " 'entanhtgap': 0.002127659574468085,\n",
       " 'lhifhrclff': 0.001976284584980237,\n",
       " 'afucdrqjav': 0.0017761989342806395,\n",
       " 'arhqtsglgm': 0.0017667844522968198,\n",
       " 'smqfaiglmq': 0.0017064846416382253,\n",
       " 'inqmcxpcgi': 0.001697792869269949,\n",
       " 'ackeomlmkp': 0.0015822784810126582,\n",
       " 'ejwpmmmisf': 0.0015082956259426848,\n",
       " 'ftgqkitscn': 0.0014619883040935672,\n",
       " 'jtigltqrjk': 0.0013774104683195593,\n",
       " 'jdnzmkfafo': 0.0013123359580052493,\n",
       " 'ivvmeoxeno': 0.0012953367875647669,\n",
       " 'gmgowucdgr': 0.001256281407035176,\n",
       " 'efsgeezhec': 0.0012360939431396785,\n",
       " 'gshgtjwfcp': 0.0012330456226880395,\n",
       " 'bryzbshxgb': 0.0012239902080783353,\n",
       " 'qwxckujbmu': 0.0012121212121212121,\n",
       " 'fqtbxbivia': 0.0011933174224343676,\n",
       " 'cikushjfrh': 0.0011862396204033216,\n",
       " 'pkpkxdmsaj': 0.0011806375442739079,\n",
       " 'nlfdtshfec': 0.0011723329425556857,\n",
       " 'dgxbfzsilk': 0.001160092807424594,\n",
       " 'resaqmnfio': 0.0011587485515643105,\n",
       " 'qmdomacagc': 0.0011534025374855825,\n",
       " 'iciwlgkcje': 0.001141552511415525,\n",
       " 'nlbgckrehs': 0.0011299435028248588,\n",
       " 'tqysqeigmc': 0.0011248593925759281,\n",
       " 'mlhgrimmmy': 0.0011098779134295228,\n",
       " 'hatflqnamx': 0.0010869565217391304,\n",
       " 'eijfhhxppm': 0.0010787486515641855,\n",
       " 'gipimqepzn': 0.0010775862068965517,\n",
       " 'taqgfjnilq': 0.0010741138560687433,\n",
       " 'kmkqkbirvr': 0.0010660980810234541,\n",
       " 'qyggpiulfh': 0.0010504201680672268,\n",
       " 'qnyfgdziif': 0.001040582726326743,\n",
       " 'hdglsrhgqn': 0.0010395010395010396,\n",
       " 'hgghrmgzmr': 0.0010152284263959391,\n",
       " 'cowxcvfjwc': 0.001,\n",
       " 'xnxnfmtace': 0.000992063492063492,\n",
       " 'qfxffgzmef': 0.0009746588693957114,\n",
       " 'pvktnprwbe': 0.0009737098344693282,\n",
       " 'gdwrfvmpun': 0.0009578544061302681,\n",
       " 'earvxhpqel': 0.0009505703422053232,\n",
       " 'vsmofrjvpm': 0.0009505703422053232,\n",
       " 'hsaptokhov': 0.000949667616334283,\n",
       " 'drdqkelbym': 0.0009285051067780873,\n",
       " 'yzjbeditht': 0.0009216589861751152,\n",
       " 'ijzgrzaqrx': 0.0009074410163339383,\n",
       " 'jcvxftpjov': 0.00089126559714795,\n",
       " 'gqncukycnv': 0.0008873114463176575,\n",
       " 'zqtoqgojgy': 0.0008795074758135445,\n",
       " 'ewurpqyupm': 0.0008764241893076249,\n",
       " 'gkcdmltpsg': 0.0008741258741258741,\n",
       " 'hflzkvtrbf': 0.0008718395815170009,\n",
       " 'slosvuhnlb': 0.0008650519031141869,\n",
       " 'okfewpffpw': 0.0008628127696289905,\n",
       " 'toioukbsqe': 0.0008605851979345956,\n",
       " 'wsqosmvejm': 0.0008517887563884157,\n",
       " 'wzcqjonsbm': 0.0008503401360544217,\n",
       " 'krdxczgxds': 0.0008488964346349745,\n",
       " 'esexcxoarn': 0.0008319467554076539,\n",
       " 'wksjrcpwgx': 0.0007936507936507937,\n",
       " 'weutjdjgum': 0.0007874015748031496,\n",
       " 'vamckikomz': 0.00078125,\n",
       " 'gzckwuezle': 0.0007757951900698216,\n",
       " 'rakmcwjxax': 0.0007704160246533128,\n",
       " 'hgynwmyfri': 0.0007598784194528875,\n",
       " 'qqlftqsfwq': 0.0007331378299120235,\n",
       " 'amiwgmxiyp': 0.0007183908045977011,\n",
       " 'wsbfhikrsa': 0.000708215297450425,\n",
       " 'xenxpcgxkn': 0.0006944444444444445,\n",
       " 'xshuabvbbx': 0.000691085003455425,\n",
       " 'pqorvrjvxs': 0.0006825938566552901,\n",
       " 'mezxuwhbsc': 0.0006784260515603799,\n",
       " 'ehaeesozvt': 0.0006527415143603133,\n",
       " 'ggzoaqzvwd': 0.0006393861892583121,\n",
       " 'xldmcagqxs': 0.0006377551020408163,\n",
       " 'xuyzrbkftb': 0.0006333122229259025,\n",
       " 'ugnibxzdnu': 0.0006242197253433209,\n",
       " 'uwbtbpguvu': 0.0006184291898577613,\n",
       " 'vztozeitwt': 0.0006016847172081829,\n",
       " 'ostrpxowzv': 0.0005995203836930455,\n",
       " 'elbrsyrnxt': 0.0005797101449275362,\n",
       " 'utaezkikub': 0.0005797101449275362,\n",
       " 'fdqhpxzhxa': 0.000576036866359447,\n",
       " 'ykyxuapyhb': 0.0005753739930955121,\n",
       " 'swxrafrzyy': 0.0005750431282346176,\n",
       " 'ydahyxhkcf': 0.0005589714924538849,\n",
       " 'lscfozszvr': 0.0005518763796909492,\n",
       " 'zinbosuwqt': 0.0005518763796909492,\n",
       " 'eadbqzxmqa': 0.0005393743257820927,\n",
       " 'wmdjonywpw': 0.0005268703898840885,\n",
       " 'ypbmrtzbpf': 0.0004940711462450593,\n",
       " 'vlxnylzjyt': 0.00048590864917395527,\n",
       " 'libiypzawv': 0.000473260766682442,\n",
       " 'ycjtveoxqz': 0.00047281323877068556}"
      ]
     },
     "execution_count": 267,
     "metadata": {},
     "output_type": "execute_result"
    }
   ],
   "source": [
    "def ordenar(dicionario: dict, criterio: str = 'DESC') -> dict[str, float]:\n",
    "    if criterio == 'ASC':\n",
    "        dicionario_notas = {k: v for k, v in sorted(dicionario.items(), key=lambda item: item[1])}\n",
    "        \n",
    "    elif criterio == 'DESC':\n",
    "        dicionario_notas = {k: v for k, v in sorted(dicionario.items(), key=lambda item: item[1], reverse=True)}\n",
    "        \n",
    "    return dicionario_notas\n",
    "\n",
    "dicionario_notas = ordenar(dicionario_notas)\n",
    "dicionario_notas"
   ]
  },
  {
   "cell_type": "code",
   "execution_count": 268,
   "metadata": {},
   "outputs": [
    {
     "data": {
      "text/plain": [
       "['luvedbeuei', 'kunadeghkr']"
      ]
     },
     "execution_count": 268,
     "metadata": {},
     "output_type": "execute_result"
    }
   ],
   "source": [
    "def topn(dicionario: dict, n: int = 2) -> dict:\n",
    "    return list(dicionario.keys())[:n]\n",
    "topn(dicionario_notas)"
   ]
  },
  {
   "cell_type": "markdown",
   "metadata": {},
   "source": [
    "### Torneio para selecionar 2 indivíduos diferentes"
   ]
  },
  {
   "cell_type": "code",
   "execution_count": 269,
   "metadata": {},
   "outputs": [
    {
     "data": {
      "text/plain": [
       "['utaezkikub', 'nlbgckrehs']"
      ]
     },
     "execution_count": 269,
     "metadata": {},
     "output_type": "execute_result"
    }
   ],
   "source": [
    "def torneio(populacao_selecionada: list[str], dicionario_notas: dict, melhores_individuos: list[str] = topn(dicionario_notas)) -> list[str]:\n",
    "    individuos_selecionados: list[str] = []\n",
    "    for individuo in melhores_individuos:\n",
    "        if individuo in populacao_selecionada:populacao_selecionada.remove(individuo)\n",
    "        \n",
    "    while len(individuos_selecionados) < 2:\n",
    "        individuo: str = random.choice(populacao_selecionada)\n",
    "        individuo2: str = random.choice(populacao_selecionada)\n",
    "        \n",
    "        \n",
    "        if dicionario_notas[individuo] > dicionario_notas[individuo2]:\n",
    "            if not (individuo in individuos_selecionados): individuos_selecionados.append(individuo)\n",
    "        else:\n",
    "            if not (individuo2 in individuos_selecionados): individuos_selecionados.append(individuo2)\n",
    "            \n",
    "    return individuos_selecionados\n",
    "\n",
    "torneio(populacao, dicionario_notas)"
   ]
  },
  {
   "cell_type": "markdown",
   "metadata": {},
   "source": [
    "### Faz o cruzamento entre dois indivíduos (usando o método *crossover*)"
   ]
  },
  {
   "cell_type": "code",
   "execution_count": 270,
   "metadata": {},
   "outputs": [],
   "source": [
    "def cruza(pai_mae: list[str], prob = 80) -> list[str]:\n",
    "    iv1, iv2 = pai_mae\n",
    "    \n",
    "    assert(len(iv1) == len(iv2))\n",
    "    \n",
    "    probabilidade_cruzamento = random.randint(0, 100)\n",
    "    \n",
    "    if probabilidade_cruzamento < prob:\n",
    "        pos = random.randint(0, len(iv1))\n",
    "    \n",
    "        filho1 = iv1[:pos] + iv2[pos:]\n",
    "        filho2 = iv2[:pos] + iv1[pos:]\n",
    "        \n",
    "        return [filho1, filho2]\n",
    "        \n",
    "    else:\n",
    "        return [iv1, iv2]"
   ]
  },
  {
   "cell_type": "code",
   "execution_count": 271,
   "metadata": {},
   "outputs": [
    {
     "name": "stdout",
     "output_type": "stream",
     "text": [
      "['qnyfgdziif', 'xldmcagqxs']\n",
      "['qnyfcagqxs', 'xldmgdziif']\n"
     ]
    }
   ],
   "source": [
    "pais = torneio(populacao, dicionario_notas)\n",
    "print(pais)\n",
    "filhos = cruza(pais, 100)\n",
    "print(filhos)"
   ]
  },
  {
   "cell_type": "markdown",
   "metadata": {},
   "source": [
    "### Mutação de Indivíduos"
   ]
  },
  {
   "cell_type": "code",
   "execution_count": 272,
   "metadata": {},
   "outputs": [],
   "source": [
    "def mutar(individuos: list[str], prob = 50) -> list[str]: # 50 é igual a 0.05 nesse caso\n",
    "    individuos_mutados = []\n",
    "    for individuo in individuos:\n",
    "        for pos, alelo in enumerate(individuo):\n",
    "            probabilidade_mutacao = random.randint(0, 1000)\n",
    "            \n",
    "            if probabilidade_mutacao < prob:\n",
    "                novo_gene = gene(remove=[alelo]) \n",
    "                individuo = f'{individuo[:pos]}{novo_gene}{individuo[pos+1:]}'\n",
    "                \n",
    "        individuos_mutados.append(individuo)\n",
    "    \n",
    "    return individuos_mutados"
   ]
  },
  {
   "cell_type": "code",
   "execution_count": 275,
   "metadata": {},
   "outputs": [
    {
     "name": "stdout",
     "output_type": "stream",
     "text": [
      "Última geração: 68\n",
      "{\n",
      "  \"artificial\": 0,\n",
      "  \"apsieizsag\": 0.0015151515151515152,\n",
      "  \"arvjfizial\": 0.0018726591760299626,\n",
      "  \"wrsificial\": 0.002061855670103093,\n",
      "  \"arsifiyial\": 0.002061855670103093,\n",
      "  \"arsiwicilk\": 0.0024271844660194173,\n",
      "  \"arsjzicial\": 0.0024875621890547263,\n",
      "  \"trsigmbial\": 0.002631578947368421,\n",
      "  \"srsifidiak\": 0.0030581039755351682,\n",
      "  \"arsjfiuial\": 0.003067484662576687,\n",
      "  \"frszficial\": 0.0031746031746031746,\n",
      "  \"arsobisiak\": 0.0032258064516129032,\n",
      "  \"arcigigial\": 0.0032679738562091504,\n",
      "  \"arcificibk\": 0.003436426116838488,\n",
      "  \"arsificzal\": 0.0034482758620689655,\n",
      "  \"absifidiak\": 0.003861003861003861,\n",
      "  \"assifxbial\": 0.0043859649122807015,\n",
      "  \"arsxficial\": 0.004424778761061947,\n",
      "  \"arjifictal\": 0.004524886877828055,\n",
      "  \"hrsigvcial\": 0.004545454545454545,\n",
      "  \"atpigicwal\": 0.004608294930875576,\n",
      "  \"arsigiciaz\": 0.005050505050505051,\n",
      "  \"arsifwcial\": 0.005076142131979695,\n",
      "  \"nrsifigiak\": 0.0053475935828877,\n",
      "  \"arlqgicial\": 0.007751937984496124,\n",
      "  \"arsigicilk\": 0.008064516129032258,\n",
      "  \"artigidtal\": 0.008130081300813009,\n",
      "  \"artiginial\": 0.00819672131147541,\n",
      "  \"arsinidbal\": 0.008695652173913044,\n",
      "  \"arsieilnan\": 0.008928571428571428,\n",
      "  \"krsigicial\": 0.00980392156862745,\n",
      "  \"arsjgigijl\": 0.01,\n",
      "  \"arkifecial\": 0.010309278350515464,\n",
      "  \"arsjfiddad\": 0.010869565217391304,\n",
      "  \"gwskgmbial\": 0.011904761904761904,\n",
      "  \"arsifidiac\": 0.012048192771084338,\n",
      "  \"arsificiac\": 0.012195121951219513,\n",
      "  \"arsfgibqal\": 0.013157894736842105,\n",
      "  \"apsifikjal\": 0.014285714285714285,\n",
      "  \"apsificiat\": 0.014492753623188406,\n",
      "  \"arsifidiad\": 0.015151515151515152,\n",
      "  \"arsqgicial\": 0.015151515151515152,\n",
      "  \"arsificiat\": 0.015384615384615385,\n",
      "  \"arsqficial\": 0.015384615384615385,\n",
      "  \"arnjfidial\": 0.02631578947368421,\n",
      "  \"artcgicial\": 0.02702702702702703,\n",
      "  \"arsifiiial\": 0.02702702702702703,\n",
      "  \"frsifiaibj\": 0.02857142857142857,\n",
      "  \"apsifndial\": 0.03225806451612903,\n",
      "  \"frsigibial\": 0.03571428571428571,\n",
      "  \"frsieibial\": 0.03571428571428571,\n",
      "  \"artigidifl\": 0.037037037037037035,\n",
      "  \"awsificial\": 0.038461538461538464,\n",
      "  \"arsjgigial\": 0.05263157894736842,\n",
      "  \"artigiciel\": 0.058823529411764705,\n",
      "  \"arpificial\": 0.0625,\n",
      "  \"arsfgicial\": 0.09090909090909091,\n",
      "  \"ausificial\": 0.1,\n",
      "  \"arsifiaiaj\": 0.1111111111111111,\n",
      "  \"apsificjal\": 0.16666666666666666,\n",
      "  \"apsificial\": 0.2,\n",
      "  \"arsigibial\": 0.3333333333333333,\n",
      "  \"arsighcial\": 0.3333333333333333,\n",
      "  \"arsifidiak\": 0.3333333333333333,\n",
      "  \"arsieicial\": 0.5,\n",
      "  \"arsjficial\": 0.5,\n",
      "  \"arsifidial\": 0.5,\n",
      "  \"arsigicial\": 0.5,\n",
      "  \"arsificial\": 1.0,\n",
      "  \"artigicial\": 1.0,\n",
      "  \"aruificial\": 1.0\n",
      "}\n"
     ]
    }
   ],
   "source": [
    "def main():\n",
    "    dicionario_notas = {}\n",
    "    populacao_ = gerar_populacao(10, 100)\n",
    "    i = 0\n",
    "    \n",
    "    while 0 not in dicionario_notas.values():\n",
    "        dicionario_notas = notas(populacao_)\n",
    "        dicionario_notas = ordenar(dicionario_notas)\n",
    "        geracao = []\n",
    "        while len(geracao) < 98:\n",
    "            pais = torneio(populacao_, dicionario_notas)\n",
    "            filhos = cruza(pais)\n",
    "            filhos = mutar(filhos)\n",
    "            geracao+=filhos\n",
    "        \n",
    "        geracao+=topn(dicionario_notas)\n",
    "        populacao_ = geracao\n",
    "    \n",
    "        i+=1\n",
    "    \n",
    "    print(f'Última geração: {i}')\n",
    "    return (ordenar(dicionario_notas, 'ASC'))\n",
    "        \n",
    "melhor_geracao = main()\n",
    "\n",
    "import json\n",
    "print(json.dumps(melhor_geracao, indent=2))"
   ]
  }
 ],
 "metadata": {
  "kernelspec": {
   "display_name": "Python 3",
   "language": "python",
   "name": "python3"
  },
  "language_info": {
   "codemirror_mode": {
    "name": "ipython",
    "version": 3
   },
   "file_extension": ".py",
   "mimetype": "text/x-python",
   "name": "python",
   "nbconvert_exporter": "python",
   "pygments_lexer": "ipython3",
   "version": "3.12.4"
  }
 },
 "nbformat": 4,
 "nbformat_minor": 2
}
