{
 "cells": [
  {
   "cell_type": "markdown",
   "metadata": {},
   "source": [
    "# Escopo do Projeto\n",
    "Construção de um algoritmo genético (heurística probabilística) para retornar resultados *aproximados* da palavra \"artificial\"."
   ]
  },
  {
   "cell_type": "markdown",
   "metadata": {},
   "source": [
    "### Bibliotecas necessárias"
   ]
  },
  {
   "cell_type": "code",
   "execution_count": 62,
   "metadata": {},
   "outputs": [],
   "source": [
    "import random\n",
    "import string"
   ]
  },
  {
   "cell_type": "markdown",
   "metadata": {},
   "source": [
    "### Geração de um Gene"
   ]
  },
  {
   "cell_type": "code",
   "execution_count": 63,
   "metadata": {},
   "outputs": [],
   "source": [
    "def gene(not_consider: list = []) -> str:\n",
    "    alfabeto = string.ascii_lowercase\n",
    "    alfabeto = list(alfabeto)\n",
    "    for i in not_consider:\n",
    "        alfabeto.remove(i)\n",
    "    return random.choice(alfabeto) if len(alfabeto) > 0 else None"
   ]
  },
  {
   "cell_type": "markdown",
   "metadata": {},
   "source": [
    "### Geração da População"
   ]
  },
  {
   "cell_type": "code",
   "execution_count": 64,
   "metadata": {},
   "outputs": [],
   "source": [
    "def gerar_populacao(tamanho: int, quantidade: int) -> list[str]:\n",
    "    pop: list[str] = []\n",
    "    \n",
    "    for x in range(quantidade):\n",
    "        palavra: str = ''\n",
    "\n",
    "        for y in range(tamanho):\n",
    "            palavra+=gene()\n",
    "\n",
    "        pop.append(palavra)\n",
    "    \n",
    "    return pop"
   ]
  },
  {
   "cell_type": "code",
   "execution_count": 65,
   "metadata": {},
   "outputs": [],
   "source": [
    "populacao: list[str] = gerar_populacao(10, 100)"
   ]
  },
  {
   "cell_type": "markdown",
   "metadata": {},
   "source": [
    "### Função de avaliação do indivíduo"
   ]
  },
  {
   "cell_type": "code",
   "execution_count": 66,
   "metadata": {},
   "outputs": [],
   "source": [
    "def avaliar(individuo: str, tipo: str = 'max') -> float | int: \n",
    "    # Max é se o problema é de MAXIMIZACAO, ou seja, quanto MAIOR a nota, melhor\n",
    "    \"\"\"ESTA FUNCAO GERA UM VALOR BASEADO NA DIFERENCA DOS VALORES ASCII DAS PALAVRA\"\"\"\n",
    "    \n",
    "    assert tipo in ['max', 'min'], 'Tipo de problema inválido'\n",
    "\n",
    "    palavra_alvo: str = 'artificial'\n",
    "    nota: int | float = 0\n",
    "\n",
    "    for caractere_teste, caractere_alvo in zip(individuo, palavra_alvo):\n",
    "        ascii_teste = ord(caractere_teste) # Valor inteiro ascii do caractere teste\n",
    "        ascii_alvo = ord(caractere_alvo) # Valor inteiro ascii do caractere alvo\n",
    "\n",
    "        distancia_quadratica = (ascii_teste - ascii_alvo)**2 # faz o quadradinho\n",
    "\n",
    "        nota+=(distancia_quadratica) # soma a nota\n",
    "    \n",
    "    return 1/nota if tipo == 'max' and nota != 0 else nota"
   ]
  },
  {
   "cell_type": "markdown",
   "metadata": {},
   "source": [
    "##### Cria um dicionário para armazenar as notas dos indivíduos e tornar mais fácil o seu acesso"
   ]
  },
  {
   "cell_type": "code",
   "execution_count": 67,
   "metadata": {},
   "outputs": [
    {
     "data": {
      "text/plain": [
       "{'pqasurgecz': 0.0008163265306122449,\n",
       " 'ijfjcjipeh': 0.0022123893805309734,\n",
       " 'retxbnfxad': 0.0009784735812133072,\n",
       " 'naflwiccqi': 0.0007980845969672786,\n",
       " 'gxkwtfccxr': 0.0008658008658008658,\n",
       " 'fldykdicph': 0.0010683760683760685,\n",
       " 'ysxghbtctu': 0.0007057163020465773,\n",
       " 'jgiayvpjmc': 0.0007621951219512195,\n",
       " 'iacwuvaico': 0.0008006405124099279,\n",
       " 'xfmlymmowr': 0.0005668934240362812,\n",
       " 'sejsiiztju': 0.0006605019815059445,\n",
       " 'bwaasukwwq': 0.0006523157208088715,\n",
       " 'pctbnlawtt': 0.000835421888053467,\n",
       " 'dnxbmvkfnh': 0.0017667844522968198,\n",
       " 'hlaobpkzhd': 0.0009871668311944718,\n",
       " 'taqwhzmfdn': 0.0007874015748031496,\n",
       " 'eozdmcmbyp': 0.0010964912280701754,\n",
       " 'vtqclfadza': 0.0007633587786259542,\n",
       " 'dpwwtcsjon': 0.0011025358324145535,\n",
       " 'iheljiztht': 0.0008496176720475786,\n",
       " 'xbfrtfwqit': 0.0005379236148466917,\n",
       " 'putiuiaqbn': 0.0018796992481203006,\n",
       " 'gfbllpbihe': 0.0014347202295552368,\n",
       " 'vvcowjyidj': 0.0006373486297004461,\n",
       " 'ailelhokuf': 0.0012787723785166241,\n",
       " 'dchhiljizc': 0.0008680555555555555,\n",
       " 'tejniaiuee': 0.0010277492291880781,\n",
       " 'vdpmbmhaxx': 0.000683526999316473,\n",
       " 'icaepvqsll': 0.0007396449704142012,\n",
       " 'skzmbwrhql': 0.0008936550491510277,\n",
       " 'wifhxikdpc': 0.0006752194463200541,\n",
       " 'retsucsjoq': 0.0007710100231303007,\n",
       " 'lmgvavkokd': 0.0010615711252653928,\n",
       " 'prtyqqzjtw': 0.0005959475566150178,\n",
       " 'okhnveopyr': 0.0006706908115358819,\n",
       " 'dadtmioxdb': 0.0008319467554076539,\n",
       " 'flqqtopvol': 0.0011111111111111111,\n",
       " 'fxvnjbptzy': 0.0008071025020177562,\n",
       " 'myepvygqfu': 0.0008583690987124463,\n",
       " 'rejsrghsgw': 0.0009191176470588235,\n",
       " 'litseyrnsc': 0.0008237232289950577,\n",
       " 'dpgedrtqqx': 0.0009652509652509653,\n",
       " 'dzabmxkrjz': 0.0008481764206955047,\n",
       " 'godhapwnoe': 0.0009560229445506692,\n",
       " 'hbecvohosf': 0.0007818608287724785,\n",
       " 'hcjhwistcr': 0.0009250693802035153,\n",
       " 'xjtaskqimw': 0.000774593338497289,\n",
       " 'mrvplvvbkr': 0.0010548523206751054,\n",
       " 'matquutsjy': 0.000664451827242525,\n",
       " 'weccnlwiov': 0.0005724098454493417,\n",
       " 'fhpzjhgijx': 0.0014534883720930232,\n",
       " 'mndyupocqz': 0.0006337135614702154,\n",
       " 'kwwejmkeje': 0.002551020408163265,\n",
       " 'gfiocfxsyt': 0.0006510416666666666,\n",
       " 'ohcwhuofwe': 0.0006191950464396285,\n",
       " 'ogluglwuvu': 0.0006246096189881324,\n",
       " 'jlqgcsvmky': 0.0011299435028248588,\n",
       " 'qafghidnxj': 0.0007645259938837921,\n",
       " 'vonejbkrtn': 0.0009285051067780873,\n",
       " 'qqtudmyotg': 0.0007535795026375283,\n",
       " 'btqjmvhmud': 0.0013550135501355014,\n",
       " 'jcenceypwu': 0.0005955926146515784,\n",
       " 'zvmnlxzkff': 0.0006369426751592356,\n",
       " 'chyquefdlo': 0.0016722408026755853,\n",
       " 'btallbkgte': 0.0010660980810234541,\n",
       " 'kkbjaztqcj': 0.0008703220191470844,\n",
       " 'uuoljkxujs': 0.0008488964346349745,\n",
       " 'zeehsrgeuu': 0.0005608524957936063,\n",
       " 'araczrtwey': 0.0006459948320413437,\n",
       " 'zchoxsolgy': 0.0005518763796909492,\n",
       " 'uhzivzmisu': 0.0006305170239596469,\n",
       " 'pxclfirqcc': 0.0010718113612004287,\n",
       " 'irhigexchd': 0.001226993865030675,\n",
       " 'otdlehnhpf': 0.001176470588235294,\n",
       " 'zvesikiqyf': 0.0005913660555884093,\n",
       " 'ejvunrlvoo': 0.0012077294685990338,\n",
       " 'jmyluuyxkp': 0.0007496251874062968,\n",
       " 'cxxwcgsahb': 0.0013623978201634877,\n",
       " 'kwgwyimuop': 0.0007651109410864575,\n",
       " 'khocisszap': 0.0010741138560687433,\n",
       " 'qmapgaqrny': 0.0007293946024799417,\n",
       " 'vftnyrwhdx': 0.0006226650062266501,\n",
       " 'pqywlcxehd': 0.0009182736455463728,\n",
       " 'ykyqvingme': 0.0007763975155279503,\n",
       " 'lnubjcobfs': 0.001976284584980237,\n",
       " 'xymtfrcofn': 0.0011185682326621924,\n",
       " 'gmrjfsypas': 0.001336898395721925,\n",
       " 'vygdrsmivd': 0.0006523157208088715,\n",
       " 'rfplwxfhss': 0.0007380073800738007,\n",
       " 'hnyrwpjybc': 0.0011160714285714285,\n",
       " 'yjnfubloky': 0.0007434944237918215,\n",
       " 'sfepzrreuh': 0.0005319148936170213,\n",
       " 'kzophwedeq': 0.001968503937007874,\n",
       " 'rrvsvoedek': 0.0013679890560875513,\n",
       " 'hsapdnbdcn': 0.0019120458891013384,\n",
       " 'ctvyxodbak': 0.0014727540500736377,\n",
       " 'uqbsjlofty': 0.0006523157208088715,\n",
       " 'drlpbiwnhq': 0.0015698587127158557,\n",
       " 'nujkbobiov': 0.001584786053882726,\n",
       " 'itbxesuadu': 0.0008361204013377926}"
      ]
     },
     "execution_count": 67,
     "metadata": {},
     "output_type": "execute_result"
    }
   ],
   "source": [
    "def notas(populacao: list[str]) -> dict[str, float]:\n",
    "    dicionario_notas: dict = {}\n",
    "    for individuo in populacao:\n",
    "        dicionario_notas[individuo] = avaliar(individuo)\n",
    "    return dicionario_notas\n",
    "\n",
    "dicionario_notas: dict = notas(populacao)\n",
    "dicionario_notas"
   ]
  },
  {
   "cell_type": "code",
   "execution_count": 68,
   "metadata": {},
   "outputs": [
    {
     "data": {
      "text/plain": [
       "{'kwwejmkeje': 0.002551020408163265,\n",
       " 'ijfjcjipeh': 0.0022123893805309734,\n",
       " 'lnubjcobfs': 0.001976284584980237,\n",
       " 'kzophwedeq': 0.001968503937007874,\n",
       " 'hsapdnbdcn': 0.0019120458891013384,\n",
       " 'putiuiaqbn': 0.0018796992481203006,\n",
       " 'dnxbmvkfnh': 0.0017667844522968198,\n",
       " 'chyquefdlo': 0.0016722408026755853,\n",
       " 'nujkbobiov': 0.001584786053882726,\n",
       " 'drlpbiwnhq': 0.0015698587127158557,\n",
       " 'ctvyxodbak': 0.0014727540500736377,\n",
       " 'fhpzjhgijx': 0.0014534883720930232,\n",
       " 'gfbllpbihe': 0.0014347202295552368,\n",
       " 'rrvsvoedek': 0.0013679890560875513,\n",
       " 'cxxwcgsahb': 0.0013623978201634877,\n",
       " 'btqjmvhmud': 0.0013550135501355014,\n",
       " 'gmrjfsypas': 0.001336898395721925,\n",
       " 'ailelhokuf': 0.0012787723785166241,\n",
       " 'irhigexchd': 0.001226993865030675,\n",
       " 'ejvunrlvoo': 0.0012077294685990338,\n",
       " 'otdlehnhpf': 0.001176470588235294,\n",
       " 'jlqgcsvmky': 0.0011299435028248588,\n",
       " 'xymtfrcofn': 0.0011185682326621924,\n",
       " 'hnyrwpjybc': 0.0011160714285714285,\n",
       " 'flqqtopvol': 0.0011111111111111111,\n",
       " 'dpwwtcsjon': 0.0011025358324145535,\n",
       " 'eozdmcmbyp': 0.0010964912280701754,\n",
       " 'khocisszap': 0.0010741138560687433,\n",
       " 'pxclfirqcc': 0.0010718113612004287,\n",
       " 'fldykdicph': 0.0010683760683760685,\n",
       " 'btallbkgte': 0.0010660980810234541,\n",
       " 'lmgvavkokd': 0.0010615711252653928,\n",
       " 'mrvplvvbkr': 0.0010548523206751054,\n",
       " 'tejniaiuee': 0.0010277492291880781,\n",
       " 'hlaobpkzhd': 0.0009871668311944718,\n",
       " 'retxbnfxad': 0.0009784735812133072,\n",
       " 'dpgedrtqqx': 0.0009652509652509653,\n",
       " 'godhapwnoe': 0.0009560229445506692,\n",
       " 'vonejbkrtn': 0.0009285051067780873,\n",
       " 'hcjhwistcr': 0.0009250693802035153,\n",
       " 'rejsrghsgw': 0.0009191176470588235,\n",
       " 'pqywlcxehd': 0.0009182736455463728,\n",
       " 'skzmbwrhql': 0.0008936550491510277,\n",
       " 'kkbjaztqcj': 0.0008703220191470844,\n",
       " 'dchhiljizc': 0.0008680555555555555,\n",
       " 'gxkwtfccxr': 0.0008658008658008658,\n",
       " 'myepvygqfu': 0.0008583690987124463,\n",
       " 'iheljiztht': 0.0008496176720475786,\n",
       " 'uuoljkxujs': 0.0008488964346349745,\n",
       " 'dzabmxkrjz': 0.0008481764206955047,\n",
       " 'itbxesuadu': 0.0008361204013377926,\n",
       " 'pctbnlawtt': 0.000835421888053467,\n",
       " 'dadtmioxdb': 0.0008319467554076539,\n",
       " 'litseyrnsc': 0.0008237232289950577,\n",
       " 'pqasurgecz': 0.0008163265306122449,\n",
       " 'fxvnjbptzy': 0.0008071025020177562,\n",
       " 'iacwuvaico': 0.0008006405124099279,\n",
       " 'naflwiccqi': 0.0007980845969672786,\n",
       " 'taqwhzmfdn': 0.0007874015748031496,\n",
       " 'hbecvohosf': 0.0007818608287724785,\n",
       " 'ykyqvingme': 0.0007763975155279503,\n",
       " 'xjtaskqimw': 0.000774593338497289,\n",
       " 'retsucsjoq': 0.0007710100231303007,\n",
       " 'kwgwyimuop': 0.0007651109410864575,\n",
       " 'qafghidnxj': 0.0007645259938837921,\n",
       " 'vtqclfadza': 0.0007633587786259542,\n",
       " 'jgiayvpjmc': 0.0007621951219512195,\n",
       " 'qqtudmyotg': 0.0007535795026375283,\n",
       " 'jmyluuyxkp': 0.0007496251874062968,\n",
       " 'yjnfubloky': 0.0007434944237918215,\n",
       " 'icaepvqsll': 0.0007396449704142012,\n",
       " 'rfplwxfhss': 0.0007380073800738007,\n",
       " 'qmapgaqrny': 0.0007293946024799417,\n",
       " 'ysxghbtctu': 0.0007057163020465773,\n",
       " 'vdpmbmhaxx': 0.000683526999316473,\n",
       " 'wifhxikdpc': 0.0006752194463200541,\n",
       " 'okhnveopyr': 0.0006706908115358819,\n",
       " 'matquutsjy': 0.000664451827242525,\n",
       " 'sejsiiztju': 0.0006605019815059445,\n",
       " 'bwaasukwwq': 0.0006523157208088715,\n",
       " 'vygdrsmivd': 0.0006523157208088715,\n",
       " 'uqbsjlofty': 0.0006523157208088715,\n",
       " 'gfiocfxsyt': 0.0006510416666666666,\n",
       " 'araczrtwey': 0.0006459948320413437,\n",
       " 'vvcowjyidj': 0.0006373486297004461,\n",
       " 'zvmnlxzkff': 0.0006369426751592356,\n",
       " 'mndyupocqz': 0.0006337135614702154,\n",
       " 'uhzivzmisu': 0.0006305170239596469,\n",
       " 'ogluglwuvu': 0.0006246096189881324,\n",
       " 'vftnyrwhdx': 0.0006226650062266501,\n",
       " 'ohcwhuofwe': 0.0006191950464396285,\n",
       " 'prtyqqzjtw': 0.0005959475566150178,\n",
       " 'jcenceypwu': 0.0005955926146515784,\n",
       " 'zvesikiqyf': 0.0005913660555884093,\n",
       " 'weccnlwiov': 0.0005724098454493417,\n",
       " 'xfmlymmowr': 0.0005668934240362812,\n",
       " 'zeehsrgeuu': 0.0005608524957936063,\n",
       " 'zchoxsolgy': 0.0005518763796909492,\n",
       " 'xbfrtfwqit': 0.0005379236148466917,\n",
       " 'sfepzrreuh': 0.0005319148936170213}"
      ]
     },
     "execution_count": 68,
     "metadata": {},
     "output_type": "execute_result"
    }
   ],
   "source": [
    "def ordenar(dicionario: dict, criterio='desc') -> dict[str, float]:\n",
    "    # Se o problema for de minimizacao (ou seja, quanto menor a nota, melhor), o criterio é ascendente\n",
    "\n",
    "    if criterio == 'asc':\n",
    "        dicionario_notas = {k: v for k, v in sorted(dicionario.items(), key=lambda item: item[1])}\n",
    "        \n",
    "    elif criterio == 'desc':\n",
    "        dicionario_notas = {k: v for k, v in sorted(dicionario.items(), key=lambda item: item[1], reverse=True)}\n",
    "        \n",
    "    return dicionario_notas\n",
    "\n",
    "dicionario_notas = ordenar(dicionario_notas)\n",
    "dicionario_notas"
   ]
  },
  {
   "cell_type": "code",
   "execution_count": 69,
   "metadata": {},
   "outputs": [
    {
     "data": {
      "text/plain": [
       "['kwwejmkeje', 'ijfjcjipeh']"
      ]
     },
     "execution_count": 69,
     "metadata": {},
     "output_type": "execute_result"
    }
   ],
   "source": [
    "def topn(dicionario: dict, n: int = 2, tipo: str = 'max') -> dict:\n",
    "    if tipo == 'min':\n",
    "        dicionario: dict = ordenar(dicionario, 'asc')\n",
    "    \n",
    "    elif tipo == 'max':\n",
    "        dicionario: dict = ordenar(dicionario, 'desc')\n",
    "        \n",
    "    return list(dicionario.keys())[:n]\n",
    "        \n",
    "        \n",
    "topn(dicionario_notas, tipo='max')"
   ]
  },
  {
   "cell_type": "markdown",
   "metadata": {},
   "source": [
    "### Seleções para selecionar 2 indivíduos diferentes"
   ]
  },
  {
   "cell_type": "code",
   "execution_count": 70,
   "metadata": {},
   "outputs": [
    {
     "data": {
      "text/plain": [
       "['iheljiztht', 'retxbnfxad']"
      ]
     },
     "execution_count": 70,
     "metadata": {},
     "output_type": "execute_result"
    }
   ],
   "source": [
    "def torneio(populacao_selecionada: list[str], dicionario_notas: dict) -> list[str]:\n",
    "    individuos_selecionados: list[str] = []\n",
    "    \n",
    "    while len(individuos_selecionados) < 2:\n",
    "        individuo: str = random.choice(populacao_selecionada)\n",
    "        individuo2: str = random.choice(populacao_selecionada)\n",
    "        \n",
    "        \n",
    "        if dicionario_notas[individuo] > dicionario_notas[individuo2]:\n",
    "            if not (individuo in individuos_selecionados): individuos_selecionados.append(individuo)\n",
    "        else:\n",
    "            if not (individuo2 in individuos_selecionados): individuos_selecionados.append(individuo2)\n",
    "            \n",
    "    return individuos_selecionados\n",
    "\n",
    "torneio(populacao, dicionario_notas)"
   ]
  },
  {
   "cell_type": "code",
   "execution_count": 71,
   "metadata": {},
   "outputs": [],
   "source": [
    "def roleta_viciada(populacao_selecionada: list[str], dicionario_notas: dict, tipo='max') -> list[str]:\n",
    "    individuos_selecionados: list[str] = []    \n",
    "    soma_notas: float = sum(dicionario_notas.values())\n",
    "    \n",
    "    while len(individuos_selecionados) < 2:\n",
    "        roleta: dict = {}\n",
    "        \n",
    "        for iv, nota in dicionario_notas.items():\n",
    "            if tipo == 'max':\n",
    "                roleta[iv] = round(nota/soma_notas, 2)\n",
    "                \n",
    "            elif tipo == 'min':\n",
    "                roleta[iv] = round(((1/nota)/soma_notas)*100, 2)\n",
    "            \n",
    "        roleta: dict = ordenar(roleta, criterio='desc')\n",
    "        \n",
    "        escolha: float = round(random.uniform(0, 1),2)\n",
    "    \n",
    "        agregar: float = 0\n",
    "        for iv, nota in roleta.items():\n",
    "            agregar+=nota\n",
    "            if escolha <= agregar:\n",
    "                if not (iv in individuos_selecionados): individuos_selecionados.append(iv)\n",
    "                break\n",
    "    \n",
    "    return individuos_selecionados"
   ]
  },
  {
   "cell_type": "code",
   "execution_count": 72,
   "metadata": {},
   "outputs": [
    {
     "name": "stdout",
     "output_type": "stream",
     "text": [
      "['sejsiiztju', 'gfbllpbihe']\n"
     ]
    }
   ],
   "source": [
    "# pais = torneio(populacao, dicionario_notas)\n",
    "# print(pais)\n",
    "pais = roleta_viciada(populacao, dicionario_notas)\n",
    "print(pais)"
   ]
  },
  {
   "cell_type": "markdown",
   "metadata": {},
   "source": [
    "### Faz o cruzamento entre dois indivíduos (usando o método *crossover*)"
   ]
  },
  {
   "cell_type": "code",
   "execution_count": 73,
   "metadata": {},
   "outputs": [],
   "source": [
    "def cruza(pai_mae: list[str], prob = 80) -> list[str]:\n",
    "    iv1, iv2 = pai_mae\n",
    "    assert(len(iv1) == len(iv2))\n",
    "    \n",
    "    probabilidade_cruzamento: int = random.randint(0, 100)\n",
    "    \n",
    "    if probabilidade_cruzamento < prob:\n",
    "        pos: int = random.randint(0, len(iv1))\n",
    "    \n",
    "        filho1: str = iv1[:pos] + iv2[pos:]\n",
    "        filho2: str = iv2[:pos] + iv1[pos:]\n",
    "        \n",
    "        return [filho1, filho2]\n",
    "        \n",
    "    else:\n",
    "        return [iv1, iv2]"
   ]
  },
  {
   "cell_type": "code",
   "execution_count": 74,
   "metadata": {},
   "outputs": [
    {
     "name": "stdout",
     "output_type": "stream",
     "text": [
      "['sfbllpbihe', 'gejsiiztju']\n"
     ]
    }
   ],
   "source": [
    "filhos = cruza(pais, 100)\n",
    "print(filhos)"
   ]
  },
  {
   "cell_type": "markdown",
   "metadata": {},
   "source": [
    "### Mutação de Indivíduos"
   ]
  },
  {
   "cell_type": "code",
   "execution_count": 75,
   "metadata": {},
   "outputs": [],
   "source": [
    "def mutar(individuos: list[str], prob = 50) -> list[str]: # 50 é igual a 0.05 nesse caso\n",
    "    individuos_mutados: list[str] = []\n",
    "    \n",
    "    for individuo in individuos:\n",
    "        for pos, alelo in enumerate(individuo):\n",
    "            \n",
    "            probabilidade_mutacao: int = random.randint(0, 1000)\n",
    "            \n",
    "            if probabilidade_mutacao < prob:\n",
    "                novo_gene: str = gene(not_consider=[alelo]) \n",
    "                individuo: str = f'{individuo[:pos]}{novo_gene}{individuo[pos+1:]}'\n",
    "                \n",
    "        individuos_mutados.append(individuo)\n",
    "    \n",
    "    return individuos_mutados"
   ]
  },
  {
   "cell_type": "code",
   "execution_count": 76,
   "metadata": {},
   "outputs": [
    {
     "name": "stdout",
     "output_type": "stream",
     "text": [
      "Última geração: 62\n",
      "{\n",
      "  \"artifichal\": 1.0,\n",
      "  \"artifibial\": 1.0,\n",
      "  \"arsifibial\": 0.5,\n",
      "  \"astifichal\": 0.5,\n",
      "  \"artjfichal\": 0.5,\n",
      "  \"arsifichal\": 0.5,\n",
      "  \"astifibial\": 0.5,\n",
      "  \"brtifichal\": 0.5,\n",
      "  \"arsifichak\": 0.3333333333333333,\n",
      "  \"assifichal\": 0.3333333333333333,\n",
      "  \"artjfibhal\": 0.3333333333333333,\n",
      "  \"arsjfichal\": 0.3333333333333333,\n",
      "  \"aqtjfichal\": 0.3333333333333333,\n",
      "  \"artighchal\": 0.3333333333333333,\n",
      "  \"aqsifichal\": 0.3333333333333333,\n",
      "  \"astjfichal\": 0.3333333333333333,\n",
      "  \"bstifichal\": 0.3333333333333333,\n",
      "  \"artifhbjal\": 0.3333333333333333,\n",
      "  \"arujfichal\": 0.3333333333333333,\n",
      "  \"assifibial\": 0.3333333333333333,\n",
      "  \"artjfhchal\": 0.3333333333333333,\n",
      "  \"arsifibhal\": 0.3333333333333333,\n",
      "  \"artjfichak\": 0.3333333333333333,\n",
      "  \"arsifhbjal\": 0.25,\n",
      "  \"artjfhbhal\": 0.25,\n",
      "  \"artjfhdhal\": 0.25,\n",
      "  \"astjfibjal\": 0.25,\n",
      "  \"arshfhchal\": 0.25,\n",
      "  \"aqsifidhal\": 0.25,\n",
      "  \"brtjfibhal\": 0.25,\n",
      "  \"arrifichal\": 0.2,\n",
      "  \"aquhfhchal\": 0.2,\n",
      "  \"astjfhdhal\": 0.2,\n",
      "  \"arshfhdhal\": 0.2,\n",
      "  \"assifidhak\": 0.2,\n",
      "  \"assjfhchal\": 0.2,\n",
      "  \"bssjfichal\": 0.2,\n",
      "  \"arsifhbjak\": 0.2,\n",
      "  \"assjfhchak\": 0.16666666666666666,\n",
      "  \"atsifichal\": 0.16666666666666666,\n",
      "  \"artigichan\": 0.16666666666666666,\n",
      "  \"assifgbhal\": 0.125,\n",
      "  \"artlfhcial\": 0.1,\n",
      "  \"brtifichdk\": 0.08333333333333333,\n",
      "  \"aryifichal\": 0.038461538461538464,\n",
      "  \"arojfhbhal\": 0.034482758620689655,\n",
      "  \"arnjfichal\": 0.02631578947368421,\n",
      "  \"bstifcchal\": 0.02564102564102564,\n",
      "  \"astjfhihal\": 0.025,\n",
      "  \"hrtifichal\": 0.02,\n",
      "  \"astjfqchal\": 0.014925373134328358,\n",
      "  \"asljfhbhal\": 0.014492753623188406,\n",
      "  \"arsibibmgl\": 0.014285714285714285,\n",
      "  \"arkjfichal\": 0.012048192771084338,\n",
      "  \"artlfhcijl\": 0.01098901098901099,\n",
      "  \"ahsifichal\": 0.00980392156862745,\n",
      "  \"aqsifschal\": 0.009708737864077669,\n",
      "  \"arsihibjav\": 0.009345794392523364,\n",
      "  \"arijfichal\": 0.008130081300813009,\n",
      "  \"brtiqichal\": 0.008130081300813009,\n",
      "  \"agtjfichal\": 0.008130081300813009,\n",
      "  \"assiftchal\": 0.008064516129032258,\n",
      "  \"mrtighchal\": 0.006802721088435374,\n",
      "  \"artjfhdual\": 0.006802721088435374,\n",
      "  \"artjfibhax\": 0.006802721088435374,\n",
      "  \"argifichal\": 0.0058823529411764705,\n",
      "  \"artktichal\": 0.004975124378109453,\n",
      "  \"arsjfhdyal\": 0.0038461538461538464,\n",
      "  \"aqlifidxal\": 0.003436426116838488,\n",
      "  \"arszfhbjal\": 0.0034129692832764505,\n",
      "  \"arsofibhql\": 0.003389830508474576,\n",
      "  \"aqsifiohol\": 0.0029154518950437317,\n",
      "  \"jrtjfichtk\": 0.0022471910112359553,\n",
      "  \"butafiyhal\": 0.0017889087656529517,\n",
      "  \"wssifhswal\": 0.0010649627263045794,\n",
      "  \"artificial\": 0\n",
      "}\n"
     ]
    }
   ],
   "source": [
    "def main():\n",
    "    dicionario_notas: dict = {}\n",
    "    populacao_: list[str] = gerar_populacao(10, 100)\n",
    "    i: int = 0\n",
    "    \n",
    "    while 0 not in dicionario_notas.values():\n",
    "        dicionario_notas: dict = notas(populacao_)\n",
    "        dicionario_notas: dict = ordenar(dicionario_notas)\n",
    "        geracao: list[str] = []\n",
    "        while len(geracao) < 98:\n",
    "            # pais: list[str] = torneio(populacao_, dicionario_notas)\n",
    "            pais: list[str] = roleta_viciada(populacao_, dicionario_notas)\n",
    "            filhos: list[str] = cruza(pais)\n",
    "            filhos: list[str] = mutar(filhos)\n",
    "            geracao+=filhos\n",
    "        \n",
    "        geracao+=topn(dicionario_notas)\n",
    "        populacao_ = geracao\n",
    "    \n",
    "        i+=1\n",
    "    \n",
    "    print(f'Última geração: {i}')\n",
    "    return (ordenar(dicionario_notas, 'desc'))\n",
    "        \n",
    "melhor_geracao = main()\n",
    "\n",
    "import json\n",
    "print(json.dumps(melhor_geracao, indent=2))"
   ]
  },
  {
   "cell_type": "code",
   "execution_count": 77,
   "metadata": {},
   "outputs": [
    {
     "data": {
      "text/plain": [
       "False"
      ]
     },
     "execution_count": 77,
     "metadata": {},
     "output_type": "execute_result"
    }
   ],
   "source": [
    "infinito = float('inf')\n",
    "infinito < 5"
   ]
  }
 ],
 "metadata": {
  "kernelspec": {
   "display_name": "Python 3",
   "language": "python",
   "name": "python3"
  },
  "language_info": {
   "codemirror_mode": {
    "name": "ipython",
    "version": 3
   },
   "file_extension": ".py",
   "mimetype": "text/x-python",
   "name": "python",
   "nbconvert_exporter": "python",
   "pygments_lexer": "ipython3",
   "version": "3.12.4"
  }
 },
 "nbformat": 4,
 "nbformat_minor": 2
}
