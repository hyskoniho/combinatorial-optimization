{
 "cells": [
  {
   "cell_type": "markdown",
   "metadata": {},
   "source": [
    "# Escopo do Projeto\n",
    "Construção de um algoritmo genético (heurística probabilística) para retornar resultados *aproximados* da palavra \"artificial\"."
   ]
  },
  {
   "cell_type": "markdown",
   "metadata": {},
   "source": [
    "### Bibliotecas necessárias"
   ]
  },
  {
   "cell_type": "code",
   "execution_count": 27,
   "metadata": {},
   "outputs": [],
   "source": [
    "import random\n",
    "import string"
   ]
  },
  {
   "cell_type": "markdown",
   "metadata": {},
   "source": [
    "### Geração de um Gene"
   ]
  },
  {
   "cell_type": "code",
   "execution_count": 28,
   "metadata": {},
   "outputs": [],
   "source": [
    "def gene(not_consider: list = []) -> str:\n",
    "    alfabeto = string.ascii_lowercase\n",
    "    alfabeto = list(alfabeto)\n",
    "    for i in not_consider:\n",
    "        alfabeto.remove(i)\n",
    "    return random.choice(alfabeto) if len(alfabeto) > 0 else None"
   ]
  },
  {
   "cell_type": "markdown",
   "metadata": {},
   "source": [
    "### Geração da População"
   ]
  },
  {
   "cell_type": "code",
   "execution_count": 29,
   "metadata": {},
   "outputs": [],
   "source": [
    "def gerar_populacao(tamanho: int, quantidade: int) -> list[str]:\n",
    "    pop: list[str] = []\n",
    "    \n",
    "    for x in range(quantidade):\n",
    "        palavra: str = ''\n",
    "\n",
    "        for y in range(tamanho):\n",
    "            palavra+=gene()\n",
    "\n",
    "        pop.append(palavra)\n",
    "    \n",
    "    return pop"
   ]
  },
  {
   "cell_type": "code",
   "execution_count": 30,
   "metadata": {},
   "outputs": [],
   "source": [
    "populacao: list[str] = gerar_populacao(10, 100)"
   ]
  },
  {
   "cell_type": "markdown",
   "metadata": {},
   "source": [
    "### Função de avaliação do indivíduo"
   ]
  },
  {
   "cell_type": "code",
   "execution_count": 31,
   "metadata": {},
   "outputs": [],
   "source": [
    "def avaliar(individuo: str, max: bool = True) -> float | int:\n",
    "    \"\"\"ESTA FUNCAO GERA UM VALOR BASEADO NA DIFERENCA DOS VALORES ASCII DAS PALAVRA\"\"\"\n",
    "\n",
    "    palavra_alvo: str = 'artificial'\n",
    "    nota: int | float = 0\n",
    "\n",
    "    for caractere_teste, caractere_alvo in zip(individuo, palavra_alvo):\n",
    "        ascii_teste = ord(caractere_teste) # Valor inteiro ascii do caractere teste\n",
    "        ascii_alvo = ord(caractere_alvo) # Valor inteiro ascii do caractere alvo\n",
    "\n",
    "        distancia_quadratica = (ascii_teste - ascii_alvo)**2 # faz o quadradinho\n",
    "\n",
    "        nota+=(distancia_quadratica) # soma a nota\n",
    "    \n",
    "    return 1/nota if max and nota != 0 else nota"
   ]
  },
  {
   "cell_type": "markdown",
   "metadata": {},
   "source": [
    "##### Cria um dicionário para armazenar as notas dos indivíduos e tornar mais fácil o seu acesso"
   ]
  },
  {
   "cell_type": "code",
   "execution_count": 32,
   "metadata": {},
   "outputs": [
    {
     "data": {
      "text/plain": [
       "{'slxhrupoiy': 0.0009066183136899365,\n",
       " 'sduaayebil': 0.001017293997965412,\n",
       " 'mhsksjjzjx': 0.0010183299389002036,\n",
       " 'kptxvtxoxw': 0.0005455537370430987,\n",
       " 'xzacuadujh': 0.0006574621959237344,\n",
       " 'wymubluqop': 0.0007401924500370096,\n",
       " 'vmnnyutscl': 0.0007017543859649122,\n",
       " 'ulibrelfoy': 0.000819000819000819,\n",
       " 'autbzarvin': 0.0010162601626016261,\n",
       " 'tqoayiattc': 0.0007251631617113851,\n",
       " 'sgdwzbeqta': 0.0005274261603375527,\n",
       " 'xtdrahwjaz': 0.0006697923643670462,\n",
       " 'kzhjoubtfw': 0.0012468827930174563,\n",
       " 'lutvvsmwds': 0.0009910802775024777,\n",
       " 'gptfadyeix': 0.0012391573729863693,\n",
       " 'sxolkeoxgq': 0.0011560693641618498,\n",
       " 'wxuzfqbzms': 0.0007369196757553427,\n",
       " 'wuyywpxegr': 0.0006093845216331506,\n",
       " 'masohauxfx': 0.0007961783439490446,\n",
       " 'wvlktiokdh': 0.0010672358591248667,\n",
       " 'bxdlsqklyb': 0.000778816199376947,\n",
       " 'fxxoojsitu': 0.0011198208286674132,\n",
       " 'tkpvtzesgx': 0.0007331378299120235,\n",
       " 'tgeesggxxa': 0.0005595970900951316,\n",
       " 'jxuceeyxoe': 0.0008888888888888889,\n",
       " 'vfgjkibsow': 0.0008347245409015025,\n",
       " 'senykfgkzr': 0.0006666666666666666,\n",
       " 'xddppabykp': 0.0006381620931716656,\n",
       " 'fwezmbmvmy': 0.0008038585209003215,\n",
       " 'zqvlonljrz': 0.0007621951219512195,\n",
       " 'prvqdjtlkx': 0.0011904761904761906,\n",
       " 'itnxhklrlx': 0.0013089005235602095,\n",
       " 'tenjrqsypg': 0.0006506180871828237,\n",
       " 'olltxxjewo': 0.0006561679790026247,\n",
       " 'qipicxcfdw': 0.0013774104683195593,\n",
       " 'fqdytdtyeq': 0.0007434944237918215,\n",
       " 'diuvzlwofq': 0.0008658008658008658,\n",
       " 'wdgzvrngfq': 0.0006060606060606061,\n",
       " 'tzwqsrsrjp': 0.0008460236886632825,\n",
       " 'zararbczdh': 0.000671591672263264,\n",
       " 'tvyekvroea': 0.0009900990099009901,\n",
       " 'smcoxgkiyx': 0.0005599104143337066,\n",
       " 'eneiblejin': 0.0028169014084507044,\n",
       " 'ntscmdtdvq': 0.0009398496240601503,\n",
       " 'vuadkmgppc': 0.0008012820512820513,\n",
       " 'nytvubhylz': 0.0007942811755361397,\n",
       " 'midfopismx': 0.0009578544061302681,\n",
       " 'rgmzipglhs': 0.001076426264800861,\n",
       " 'aajemgvvpe': 0.000792393026941363,\n",
       " 'hkjsbxwkqt': 0.000791765637371338,\n",
       " 'ooqpadhsxs': 0.000984251968503937,\n",
       " 'jhbsunmwce': 0.0008305647840531562,\n",
       " 'uqdffyuwqj': 0.0005875440658049354,\n",
       " 'carmrzjdln': 0.0010582010582010583,\n",
       " 'zoooqskcwh': 0.0006596306068601583,\n",
       " 'yghiaiwgad': 0.0007496251874062968,\n",
       " 'uuvilbkvtv': 0.0008389261744966443,\n",
       " 'chpvmmdfcc': 0.0022271714922048997,\n",
       " 'drjmakachx': 0.002583979328165375,\n",
       " 'ycxtulwlie': 0.0005903187721369539,\n",
       " 'lrvtmtygni': 0.0009242144177449168,\n",
       " 'esrqkbuost': 0.0011025358324145535,\n",
       " 'jqbemkikfv': 0.0015625,\n",
       " 'nakgegnlxr': 0.0008045052292839903,\n",
       " 'kxfdtpwpbt': 0.0008960573476702509,\n",
       " 'tijekcdyhm': 0.0010799136069114472,\n",
       " 'yapbwserkv': 0.0006234413965087282,\n",
       " 'eqhjtbszdb': 0.000942507068803016,\n",
       " 'vlzphnwozv': 0.0005707762557077625,\n",
       " 'yprtlnketg': 0.0008116883116883117,\n",
       " 'siktutfshn': 0.0008968609865470852,\n",
       " 'xqlwvkhtou': 0.0006788866259334691,\n",
       " 'uqfiatcbwk': 0.0007830853563038371,\n",
       " 'etvkrhjotl': 0.0016155088852988692,\n",
       " 'xxipkpgdkq': 0.0010256410256410256,\n",
       " 'ejhofyarkz': 0.0011148272017837235,\n",
       " 'wbezgifecj': 0.0007763975155279503,\n",
       " 'oetvwyzqqi': 0.0005162622612287042,\n",
       " 'opgcrwcycr': 0.0009606147934678194,\n",
       " 'ctlyjiqbuh': 0.0009950248756218905,\n",
       " 'pwdwwlpvvy': 0.000513347022587269,\n",
       " 'llmywzacgg': 0.0008764241893076249,\n",
       " 'dxpfnoymjv': 0.0011750881316098707,\n",
       " 'mfjtnzkboy': 0.0007462686567164179,\n",
       " 'txpqxnhtxu': 0.0006321112515802782,\n",
       " 'lssagvkdyr': 0.000945179584120983,\n",
       " 'uinqpekqwh': 0.0007547169811320754,\n",
       " 'vilqlsbcrq': 0.0008795074758135445,\n",
       " 'zcezuotabq': 0.000499001996007984,\n",
       " 'ppjnucbchm': 0.0014245014245014246,\n",
       " 'twhdvvzoiz': 0.000554016620498615,\n",
       " 'ncjuguzaod': 0.0006112469437652812,\n",
       " 'ddjuqsnzfs': 0.0008665511265164644,\n",
       " 'mdijngiobw': 0.0013812154696132596,\n",
       " 'uraklyizik': 0.000691085003455425,\n",
       " 'otuxhhjrkd': 0.001379310344827586,\n",
       " 'itqdjotidc': 0.001876172607879925,\n",
       " 'iidcdtucrk': 0.0008250825082508251,\n",
       " 'njeplyvyoj': 0.0006188118811881188,\n",
       " 'qtheuoeuds': 0.0011273957158962795}"
      ]
     },
     "execution_count": 32,
     "metadata": {},
     "output_type": "execute_result"
    }
   ],
   "source": [
    "def notas(populacao: list[str]) -> dict[str, float]:\n",
    "    dicionario_notas: dict = {}\n",
    "    for individuo in populacao:\n",
    "        dicionario_notas[individuo] = avaliar(individuo)\n",
    "    return dicionario_notas\n",
    "\n",
    "dicionario_notas: dict = notas(populacao)\n",
    "dicionario_notas"
   ]
  },
  {
   "cell_type": "code",
   "execution_count": 33,
   "metadata": {},
   "outputs": [
    {
     "data": {
      "text/plain": [
       "{'eneiblejin': 0.0028169014084507044,\n",
       " 'drjmakachx': 0.002583979328165375,\n",
       " 'chpvmmdfcc': 0.0022271714922048997,\n",
       " 'itqdjotidc': 0.001876172607879925,\n",
       " 'etvkrhjotl': 0.0016155088852988692,\n",
       " 'jqbemkikfv': 0.0015625,\n",
       " 'ppjnucbchm': 0.0014245014245014246,\n",
       " 'mdijngiobw': 0.0013812154696132596,\n",
       " 'otuxhhjrkd': 0.001379310344827586,\n",
       " 'qipicxcfdw': 0.0013774104683195593,\n",
       " 'itnxhklrlx': 0.0013089005235602095,\n",
       " 'kzhjoubtfw': 0.0012468827930174563,\n",
       " 'gptfadyeix': 0.0012391573729863693,\n",
       " 'prvqdjtlkx': 0.0011904761904761906,\n",
       " 'dxpfnoymjv': 0.0011750881316098707,\n",
       " 'sxolkeoxgq': 0.0011560693641618498,\n",
       " 'qtheuoeuds': 0.0011273957158962795,\n",
       " 'fxxoojsitu': 0.0011198208286674132,\n",
       " 'ejhofyarkz': 0.0011148272017837235,\n",
       " 'esrqkbuost': 0.0011025358324145535,\n",
       " 'tijekcdyhm': 0.0010799136069114472,\n",
       " 'rgmzipglhs': 0.001076426264800861,\n",
       " 'wvlktiokdh': 0.0010672358591248667,\n",
       " 'carmrzjdln': 0.0010582010582010583,\n",
       " 'xxipkpgdkq': 0.0010256410256410256,\n",
       " 'mhsksjjzjx': 0.0010183299389002036,\n",
       " 'sduaayebil': 0.001017293997965412,\n",
       " 'autbzarvin': 0.0010162601626016261,\n",
       " 'ctlyjiqbuh': 0.0009950248756218905,\n",
       " 'lutvvsmwds': 0.0009910802775024777,\n",
       " 'tvyekvroea': 0.0009900990099009901,\n",
       " 'ooqpadhsxs': 0.000984251968503937,\n",
       " 'opgcrwcycr': 0.0009606147934678194,\n",
       " 'midfopismx': 0.0009578544061302681,\n",
       " 'lssagvkdyr': 0.000945179584120983,\n",
       " 'eqhjtbszdb': 0.000942507068803016,\n",
       " 'ntscmdtdvq': 0.0009398496240601503,\n",
       " 'lrvtmtygni': 0.0009242144177449168,\n",
       " 'slxhrupoiy': 0.0009066183136899365,\n",
       " 'siktutfshn': 0.0008968609865470852,\n",
       " 'kxfdtpwpbt': 0.0008960573476702509,\n",
       " 'jxuceeyxoe': 0.0008888888888888889,\n",
       " 'vilqlsbcrq': 0.0008795074758135445,\n",
       " 'llmywzacgg': 0.0008764241893076249,\n",
       " 'ddjuqsnzfs': 0.0008665511265164644,\n",
       " 'diuvzlwofq': 0.0008658008658008658,\n",
       " 'tzwqsrsrjp': 0.0008460236886632825,\n",
       " 'uuvilbkvtv': 0.0008389261744966443,\n",
       " 'vfgjkibsow': 0.0008347245409015025,\n",
       " 'jhbsunmwce': 0.0008305647840531562,\n",
       " 'iidcdtucrk': 0.0008250825082508251,\n",
       " 'ulibrelfoy': 0.000819000819000819,\n",
       " 'yprtlnketg': 0.0008116883116883117,\n",
       " 'nakgegnlxr': 0.0008045052292839903,\n",
       " 'fwezmbmvmy': 0.0008038585209003215,\n",
       " 'vuadkmgppc': 0.0008012820512820513,\n",
       " 'masohauxfx': 0.0007961783439490446,\n",
       " 'nytvubhylz': 0.0007942811755361397,\n",
       " 'aajemgvvpe': 0.000792393026941363,\n",
       " 'hkjsbxwkqt': 0.000791765637371338,\n",
       " 'uqfiatcbwk': 0.0007830853563038371,\n",
       " 'bxdlsqklyb': 0.000778816199376947,\n",
       " 'wbezgifecj': 0.0007763975155279503,\n",
       " 'zqvlonljrz': 0.0007621951219512195,\n",
       " 'uinqpekqwh': 0.0007547169811320754,\n",
       " 'yghiaiwgad': 0.0007496251874062968,\n",
       " 'mfjtnzkboy': 0.0007462686567164179,\n",
       " 'fqdytdtyeq': 0.0007434944237918215,\n",
       " 'wymubluqop': 0.0007401924500370096,\n",
       " 'wxuzfqbzms': 0.0007369196757553427,\n",
       " 'tkpvtzesgx': 0.0007331378299120235,\n",
       " 'tqoayiattc': 0.0007251631617113851,\n",
       " 'vmnnyutscl': 0.0007017543859649122,\n",
       " 'uraklyizik': 0.000691085003455425,\n",
       " 'xqlwvkhtou': 0.0006788866259334691,\n",
       " 'zararbczdh': 0.000671591672263264,\n",
       " 'xtdrahwjaz': 0.0006697923643670462,\n",
       " 'senykfgkzr': 0.0006666666666666666,\n",
       " 'zoooqskcwh': 0.0006596306068601583,\n",
       " 'xzacuadujh': 0.0006574621959237344,\n",
       " 'olltxxjewo': 0.0006561679790026247,\n",
       " 'tenjrqsypg': 0.0006506180871828237,\n",
       " 'xddppabykp': 0.0006381620931716656,\n",
       " 'txpqxnhtxu': 0.0006321112515802782,\n",
       " 'yapbwserkv': 0.0006234413965087282,\n",
       " 'njeplyvyoj': 0.0006188118811881188,\n",
       " 'ncjuguzaod': 0.0006112469437652812,\n",
       " 'wuyywpxegr': 0.0006093845216331506,\n",
       " 'wdgzvrngfq': 0.0006060606060606061,\n",
       " 'ycxtulwlie': 0.0005903187721369539,\n",
       " 'uqdffyuwqj': 0.0005875440658049354,\n",
       " 'vlzphnwozv': 0.0005707762557077625,\n",
       " 'smcoxgkiyx': 0.0005599104143337066,\n",
       " 'tgeesggxxa': 0.0005595970900951316,\n",
       " 'twhdvvzoiz': 0.000554016620498615,\n",
       " 'kptxvtxoxw': 0.0005455537370430987,\n",
       " 'sgdwzbeqta': 0.0005274261603375527,\n",
       " 'oetvwyzqqi': 0.0005162622612287042,\n",
       " 'pwdwwlpvvy': 0.000513347022587269,\n",
       " 'zcezuotabq': 0.000499001996007984}"
      ]
     },
     "execution_count": 33,
     "metadata": {},
     "output_type": "execute_result"
    }
   ],
   "source": [
    "def ordenar(dicionario: dict, criterio: str = 'DESC') -> dict[str, float]:\n",
    "    if criterio == 'ASC':\n",
    "        dicionario_notas = {k: v for k, v in sorted(dicionario.items(), key=lambda item: item[1])}\n",
    "        \n",
    "    elif criterio == 'DESC':\n",
    "        dicionario_notas = {k: v for k, v in sorted(dicionario.items(), key=lambda item: item[1], reverse=True)}\n",
    "        \n",
    "    return dicionario_notas\n",
    "\n",
    "dicionario_notas = ordenar(dicionario_notas)\n",
    "dicionario_notas"
   ]
  },
  {
   "cell_type": "code",
   "execution_count": 34,
   "metadata": {},
   "outputs": [
    {
     "data": {
      "text/plain": [
       "['eneiblejin', 'drjmakachx']"
      ]
     },
     "execution_count": 34,
     "metadata": {},
     "output_type": "execute_result"
    }
   ],
   "source": [
    "def topn(dicionario: dict, n: int = 2) -> dict:\n",
    "    return list(dicionario.keys())[:n]\n",
    "topn(dicionario_notas)"
   ]
  },
  {
   "cell_type": "markdown",
   "metadata": {},
   "source": [
    "### Torneio para selecionar 2 indivíduos diferentes"
   ]
  },
  {
   "cell_type": "code",
   "execution_count": 35,
   "metadata": {},
   "outputs": [
    {
     "data": {
      "text/plain": [
       "['ntscmdtdvq', 'vuadkmgppc']"
      ]
     },
     "execution_count": 35,
     "metadata": {},
     "output_type": "execute_result"
    }
   ],
   "source": [
    "def torneio(populacao_selecionada: list[str], dicionario_notas: dict, melhores_individuos: list[str] = topn(dicionario_notas)) -> list[str]:\n",
    "    individuos_selecionados: list[str] = []\n",
    "    \n",
    "    for individuo in melhores_individuos:\n",
    "        if individuo in populacao_selecionada:\n",
    "            populacao_selecionada.remove(individuo)\n",
    "        \n",
    "    while len(individuos_selecionados) < 2:\n",
    "        individuo: str = random.choice(populacao_selecionada)\n",
    "        individuo2: str = random.choice(populacao_selecionada)\n",
    "        \n",
    "        \n",
    "        if dicionario_notas[individuo] > dicionario_notas[individuo2]:\n",
    "            if not (individuo in individuos_selecionados): individuos_selecionados.append(individuo)\n",
    "        else:\n",
    "            if not (individuo2 in individuos_selecionados): individuos_selecionados.append(individuo2)\n",
    "            \n",
    "    return individuos_selecionados\n",
    "\n",
    "torneio(populacao, dicionario_notas)"
   ]
  },
  {
   "cell_type": "markdown",
   "metadata": {},
   "source": [
    "### Faz o cruzamento entre dois indivíduos (usando o método *crossover*)"
   ]
  },
  {
   "cell_type": "code",
   "execution_count": 36,
   "metadata": {},
   "outputs": [],
   "source": [
    "def cruza(pai_mae: list[str], prob = 80) -> list[str]:\n",
    "    iv1, iv2 = pai_mae\n",
    "    assert(len(iv1) == len(iv2))\n",
    "    \n",
    "    probabilidade_cruzamento: int = random.randint(0, 100)\n",
    "    \n",
    "    if probabilidade_cruzamento < prob:\n",
    "        pos: int = random.randint(0, len(iv1))\n",
    "    \n",
    "        filho1: str = iv1[:pos] + iv2[pos:]\n",
    "        filho2: str = iv2[:pos] + iv1[pos:]\n",
    "        \n",
    "        return [filho1, filho2]\n",
    "        \n",
    "    else:\n",
    "        return [iv1, iv2]"
   ]
  },
  {
   "cell_type": "code",
   "execution_count": 37,
   "metadata": {},
   "outputs": [
    {
     "name": "stdout",
     "output_type": "stream",
     "text": [
      "['sxolkeoxgq', 'fqdytdtyeq']\n",
      "['fqdytdtyeq', 'sxolkeoxgq']\n"
     ]
    }
   ],
   "source": [
    "pais = torneio(populacao, dicionario_notas)\n",
    "print(pais)\n",
    "filhos = cruza(pais, 100)\n",
    "print(filhos)"
   ]
  },
  {
   "cell_type": "markdown",
   "metadata": {},
   "source": [
    "### Mutação de Indivíduos"
   ]
  },
  {
   "cell_type": "code",
   "execution_count": 38,
   "metadata": {},
   "outputs": [],
   "source": [
    "def mutar(individuos: list[str], prob = 50) -> list[str]: # 50 é igual a 0.05 nesse caso\n",
    "    individuos_mutados: list[str] = []\n",
    "    \n",
    "    for individuo in individuos:\n",
    "        for pos, alelo in enumerate(individuo):\n",
    "            \n",
    "            probabilidade_mutacao: int = random.randint(0, 1000)\n",
    "            \n",
    "            if probabilidade_mutacao < prob:\n",
    "                novo_gene: str = gene(not_consider=[alelo]) \n",
    "                individuo: str = f'{individuo[:pos]}{novo_gene}{individuo[pos+1:]}'\n",
    "                \n",
    "        individuos_mutados.append(individuo)\n",
    "    \n",
    "    return individuos_mutados"
   ]
  },
  {
   "cell_type": "code",
   "execution_count": 39,
   "metadata": {},
   "outputs": [
    {
     "name": "stdout",
     "output_type": "stream",
     "text": [
      "Última geração: 75\n",
      "{\n",
      "  \"artificial\": 0,\n",
      "  \"vrsiqhciam\": 0.0017699115044247787,\n",
      "  \"artifixhal\": 0.0022624434389140274,\n",
      "  \"araikhcial\": 0.002583979328165375,\n",
      "  \"arsihycidd\": 0.0029940119760479044,\n",
      "  \"arsifhcism\": 0.0030581039755351682,\n",
      "  \"artifeczam\": 0.0032679738562091504,\n",
      "  \"avtifzcial\": 0.003278688524590164,\n",
      "  \"arcihlciak\": 0.0033003300330033004,\n",
      "  \"adsihhcial\": 0.0049504950495049506,\n",
      "  \"artifiqiam\": 0.005076142131979695,\n",
      "  \"arsishciam\": 0.005813953488372093,\n",
      "  \"aftifhcifm\": 0.005847953216374269,\n",
      "  \"arsifhcimm\": 0.006802721088435374,\n",
      "  \"artqohciam\": 0.006802721088435374,\n",
      "  \"arhifhciak\": 0.00684931506849315,\n",
      "  \"arsiftciam\": 0.008130081300813009,\n",
      "  \"arjifhciam\": 0.00980392156862745,\n",
      "  \"brshfhciim\": 0.014492753623188406,\n",
      "  \"arshfecbam\": 0.014705882352941176,\n",
      "  \"arshfaciam\": 0.014925373134328358,\n",
      "  \"artcfeciam\": 0.018867924528301886,\n",
      "  \"arspfhciam\": 0.019230769230769232,\n",
      "  \"brtiebciam\": 0.019230769230769232,\n",
      "  \"arsiebciam\": 0.019230769230769232,\n",
      "  \"aksifhcial\": 0.0196078431372549,\n",
      "  \"bxtifkciam\": 0.023809523809523808,\n",
      "  \"brshfhciar\": 0.025,\n",
      "  \"grsifhciam\": 0.02564102564102564,\n",
      "  \"avtiihcidm\": 0.027777777777777776,\n",
      "  \"arvhkjciam\": 0.03125,\n",
      "  \"arsifhcifm\": 0.03571428571428571,\n",
      "  \"arsikhciam\": 0.03571428571428571,\n",
      "  \"apsiikcidm\": 0.03571428571428571,\n",
      "  \"aruifhcifm\": 0.03571428571428571,\n",
      "  \"arsifhhiam\": 0.03571428571428571,\n",
      "  \"avtiihciak\": 0.037037037037037035,\n",
      "  \"brsijhciam\": 0.05,\n",
      "  \"brsmfhciam\": 0.05,\n",
      "  \"artifeciam\": 0.058823529411764705,\n",
      "  \"artifhciap\": 0.058823529411764705,\n",
      "  \"arsihhciao\": 0.06666666666666667,\n",
      "  \"arvhffciam\": 0.06666666666666667,\n",
      "  \"arqifhciam\": 0.09090909090909091,\n",
      "  \"articiciam\": 0.1,\n",
      "  \"artificfam\": 0.1,\n",
      "  \"arrihhciam\": 0.1,\n",
      "  \"artiflciam\": 0.1,\n",
      "  \"arsihhciam\": 0.14285714285714285,\n",
      "  \"apsifhciam\": 0.14285714285714285,\n",
      "  \"arsifhcicm\": 0.14285714285714285,\n",
      "  \"arsihhciak\": 0.14285714285714285,\n",
      "  \"arviehciam\": 0.14285714285714285,\n",
      "  \"arshfkciam\": 0.14285714285714285,\n",
      "  \"arvhfjcial\": 0.16666666666666666,\n",
      "  \"artifhcicm\": 0.16666666666666666,\n",
      "  \"arsificicm\": 0.16666666666666666,\n",
      "  \"arrifhciam\": 0.16666666666666666,\n",
      "  \"artifhciaj\": 0.2,\n",
      "  \"arshfhciam\": 0.25,\n",
      "  \"arsighciam\": 0.25,\n",
      "  \"artighdiam\": 0.25,\n",
      "  \"aruifhciam\": 0.3333333333333333,\n",
      "  \"brtifhciam\": 0.3333333333333333,\n",
      "  \"arsifhciam\": 0.3333333333333333,\n",
      "  \"arsifhciak\": 0.3333333333333333,\n",
      "  \"artifhciam\": 0.5,\n",
      "  \"arsifhcial\": 0.5,\n",
      "  \"artifhciak\": 0.5,\n",
      "  \"artificiam\": 1.0,\n",
      "  \"artifhcial\": 1.0\n",
      "}\n"
     ]
    }
   ],
   "source": [
    "def main():\n",
    "    dicionario_notas: dict = {}\n",
    "    populacao_: list[str] = gerar_populacao(10, 100)\n",
    "    i: int = 0\n",
    "    \n",
    "    while 0 not in dicionario_notas.values():\n",
    "        dicionario_notas: dict = notas(populacao_)\n",
    "        dicionario_notas: dict = ordenar(dicionario_notas)\n",
    "        geracao: list[str] = []\n",
    "        while len(geracao) < 98:\n",
    "            pais: list[str] = torneio(populacao_, dicionario_notas)\n",
    "            filhos: list[str] = cruza(pais)\n",
    "            filhos: list[str] = mutar(filhos)\n",
    "            geracao+=filhos\n",
    "        \n",
    "        geracao+=topn(dicionario_notas)\n",
    "        populacao_ = geracao\n",
    "    \n",
    "        i+=1\n",
    "    \n",
    "    print(f'Última geração: {i}')\n",
    "    return (ordenar(dicionario_notas, 'ASC'))\n",
    "        \n",
    "melhor_geracao = main()\n",
    "\n",
    "import json\n",
    "print(json.dumps(melhor_geracao, indent=2))"
   ]
  }
 ],
 "metadata": {
  "kernelspec": {
   "display_name": "Python 3",
   "language": "python",
   "name": "python3"
  },
  "language_info": {
   "codemirror_mode": {
    "name": "ipython",
    "version": 3
   },
   "file_extension": ".py",
   "mimetype": "text/x-python",
   "name": "python",
   "nbconvert_exporter": "python",
   "pygments_lexer": "ipython3",
   "version": "3.12.4"
  }
 },
 "nbformat": 4,
 "nbformat_minor": 2
}
