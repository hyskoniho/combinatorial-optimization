{
 "cells": [
  {
   "cell_type": "markdown",
   "metadata": {},
   "source": [
    "# Escopo do Projeto\n",
    "Construção de um algoritmo genético (heurística probabilística) para retornar resultados *aproximados* da palavra \"artificial\"."
   ]
  },
  {
   "cell_type": "markdown",
   "metadata": {},
   "source": [
    "### Bibliotecas necessárias"
   ]
  },
  {
   "cell_type": "code",
   "execution_count": 77,
   "metadata": {},
   "outputs": [],
   "source": [
    "import random"
   ]
  },
  {
   "cell_type": "markdown",
   "metadata": {},
   "source": [
    "### Geração da População"
   ]
  },
  {
   "cell_type": "code",
   "execution_count": 78,
   "metadata": {},
   "outputs": [],
   "source": [
    "def generate_pop(length: int, quantity: int) -> list[str]:\n",
    "    pl = []\n",
    "    \n",
    "    for x in range(quantity):\n",
    "        word = ''\n",
    "\n",
    "        for y in range(length):\n",
    "            word+=random.choice('abcdefghijklmnopqrstuvwxyz')\n",
    "\n",
    "        pl.append(word)\n",
    "    \n",
    "    return pl"
   ]
  },
  {
   "cell_type": "code",
   "execution_count": 79,
   "metadata": {},
   "outputs": [],
   "source": [
    "populacao: list[str] = generate_pop(10, 100)"
   ]
  },
  {
   "cell_type": "markdown",
   "metadata": {},
   "source": [
    "### Função de avaliação do indivíduo"
   ]
  },
  {
   "cell_type": "code",
   "execution_count": 81,
   "metadata": {},
   "outputs": [],
   "source": [
    "def avaliar(individuo: str, max: bool = True) -> float | int:\n",
    "    \"\"\"ESTA FUNCAO GERA UM VALOR BASEADO NA DIFERENCA DOS VALORES ASCII DAS PALAVRA\"\"\"\n",
    "\n",
    "    palavra_alvo: str = 'artificial'\n",
    "    nota: int = 0\n",
    "\n",
    "    for caractere_teste, caractere_alvo in zip(individuo, palavra_alvo):\n",
    "        ascii_teste = ord(caractere_teste) # Valor inteiro ascii do caractere teste\n",
    "        ascii_alvo = ord(caractere_alvo) # Valor inteiro ascii do caractere alvo\n",
    "\n",
    "        distancia_quadratica = (ascii_teste - ascii_alvo)**2 # faz o quadradinho\n",
    "\n",
    "        nota+=(distancia_quadratica) # soma a nota\n",
    "    \n",
    "    return 1/nota if max else nota"
   ]
  },
  {
   "cell_type": "markdown",
   "metadata": {},
   "source": [
    "##### Cria um dicionário para armazenar as notas dos indivíduos e tornar mais fácil o seu acesso"
   ]
  },
  {
   "cell_type": "code",
   "execution_count": 82,
   "metadata": {},
   "outputs": [],
   "source": [
    "dicionario_notas = {}\n",
    "for individuo in populacao:\n",
    "    dicionario_notas[individuo] = avaliar(individuo)"
   ]
  },
  {
   "cell_type": "code",
   "execution_count": 84,
   "metadata": {},
   "outputs": [],
   "source": [
    "ordenacao: str = 'ASC'\n",
    "\n",
    "if ordenacao == 'ASC':\n",
    "    dicionario_notas = {k: v for k, v in sorted(dicionario_notas.items(), key=lambda item: item[1])}\n",
    "elif ordenacao == 'DESC':\n",
    "    dicionario_notas = {k: v for k, v in sorted(dicionario_notas.items(), key=lambda item: item[1], reverse=True)}"
   ]
  },
  {
   "cell_type": "code",
   "execution_count": 85,
   "metadata": {},
   "outputs": [
    {
     "data": {
      "text/plain": [
       "{'uadpjzqyzx': 0.0003968253968253968,\n",
       " 'umgtvaznsy': 0.0004803073967339097,\n",
       " 'vwwwoysnyz': 0.00048520135856380397,\n",
       " 'rbegtfywkz': 0.0005115089514066496,\n",
       " 'xmhxotwhqr': 0.00055005500550055,\n",
       " 'naqnxmyvlz': 0.0005549389567147614,\n",
       " 'zoidvkzccy': 0.0005624296962879641,\n",
       " 'nwxzjdxyxm': 0.0005659309564233164,\n",
       " 'ufpctlrtxc': 0.0005691519635742744,\n",
       " 'bebqtxijxz': 0.0005743825387708214,\n",
       " 'ldaqxbsosk': 0.0005773672055427252,\n",
       " 'pbuzzzakpj': 0.0005892751915144372,\n",
       " 'qtgeatxtuw': 0.0005973715651135006,\n",
       " 'yvqqnzrasj': 0.0006116207951070336,\n",
       " 'iddxguidye': 0.0006361323155216285,\n",
       " 'tgupwlwgsl': 0.0006418485237483953,\n",
       " 'wkzjkzuums': 0.0006472491909385113,\n",
       " 'gaaayojcrp': 0.0006506180871828237,\n",
       " 'jxfnwvxgqr': 0.0006523157208088715,\n",
       " 'tknycjxsps': 0.0006548788474132286,\n",
       " 'nihbbfxmyq': 0.000655307994757536,\n",
       " 'nbsqwpyfaz': 0.0006591957811470006,\n",
       " 'nflshlwvsw': 0.0006648936170212766,\n",
       " 'dgfkabxvve': 0.0006648936170212766,\n",
       " 'ikexkqmwxh': 0.0006697923643670462,\n",
       " 'onxyuoqspz': 0.0006839945280437756,\n",
       " 'xpdkmtrybp': 0.0006844626967830253,\n",
       " 'hnctsxccxp': 0.000689655172413793,\n",
       " 'mooxvwqzkl': 0.0006944444444444445,\n",
       " 'vxsuvljygz': 0.0007022471910112359,\n",
       " 'kjubvznutr': 0.0007037297677691766,\n",
       " 'ljxzcfwqvj': 0.0007057163020465773,\n",
       " 'zrkrdpnkvl': 0.0007112375533428165,\n",
       " 'jfstemxpvb': 0.0007168458781362007,\n",
       " 'pxpacyubuk': 0.0007246376811594203,\n",
       " 'txjviatomx': 0.0007396449704142012,\n",
       " 'xmxakvfwrh': 0.0007473841554559044,\n",
       " 'xqgjqurbdc': 0.0007524454477050414,\n",
       " 'hzfjzhokvq': 0.0007547169811320754,\n",
       " 'pyiwkdwbaz': 0.0007776049766718507,\n",
       " 'wtkcmikrrz': 0.000778816199376947,\n",
       " 'ahhsnsagyy': 0.0007930214115781126,\n",
       " 'mbfydkoxch': 0.0008006405124099279,\n",
       " 'whmqgxksex': 0.0008019246190858059,\n",
       " 'vquwkfsfpc': 0.0008038585209003215,\n",
       " 'auqwxqpwnv': 0.0008090614886731392,\n",
       " 'bsyztbyudg': 0.0008176614881439084,\n",
       " 'xxwstihqiz': 0.0008203445447087777,\n",
       " 'fafnmvfybz': 0.0008230452674897119,\n",
       " 'idpbmxtnqq': 0.0008375209380234506,\n",
       " 'rvnojibuzg': 0.0008417508417508417,\n",
       " 'astsrtkpyw': 0.0008503401360544217,\n",
       " 'txfqtqodio': 0.0008628127696289905,\n",
       " 'oclfexbxja': 0.0008710801393728223,\n",
       " 'vbtjlwoobq': 0.0008802816901408451,\n",
       " 'awbybduubp': 0.0008841732979664014,\n",
       " 'nwfzbhvher': 0.0009009009009009009,\n",
       " 'khesbdtbcz': 0.0009057971014492754,\n",
       " 'losjsbvuos': 0.0009090909090909091,\n",
       " 'balomdtjox': 0.0009140767824497258,\n",
       " 'dctdmofizv': 0.0009276437847866419,\n",
       " 'hdeplfyiaq': 0.0009319664492078285,\n",
       " 'fcmfhuvxei': 0.0009372071227741331,\n",
       " 'yfxaolcbfv': 0.0009398496240601503,\n",
       " 'tvhgdahfsb': 0.0009514747859181732,\n",
       " 'swylayewmf': 0.0009578544061302681,\n",
       " 'pmnfdcpxqf': 0.0009794319294809011,\n",
       " 'fistudtqlt': 0.000984251968503937,\n",
       " 'ziumhhavht': 0.0009861932938856016,\n",
       " 'vevkqgkdfw': 0.0010224948875255625,\n",
       " 'jzyyutpjaj': 0.0010570824524312897,\n",
       " 'mlsuficbva': 0.0010683760683760685,\n",
       " 'ptbokmpglo': 0.0010718113612004287,\n",
       " 'nhscvknnne': 0.001075268817204301,\n",
       " 'uptklallsn': 0.0010799136069114472,\n",
       " 'mhhlktimsl': 0.001088139281828074,\n",
       " 'liqdruoucb': 0.001091703056768559,\n",
       " 'inroqxmyft': 0.0010976948408342481,\n",
       " 'ljmlbqdfym': 0.001098901098901099,\n",
       " 'ncjakjnwcl': 0.0011049723756906078,\n",
       " 'dthkdomsrz': 0.001128668171557562,\n",
       " 'qumakkuhke': 0.0011350737797956867,\n",
       " 'axbtebcskx': 0.001142857142857143,\n",
       " 'atsgaqwxkp': 0.0011918951132300357,\n",
       " 'brgofdyeir': 0.0012033694344163659,\n",
       " 'gwxondwhka': 0.0012135922330097086,\n",
       " 'hkipothbpf': 0.0012422360248447205,\n",
       " 'iqjjmygane': 0.0013003901170351106,\n",
       " 'tsmrokemby': 0.001303780964797914,\n",
       " 'pvijedapmy': 0.0013245033112582781,\n",
       " 'cpkmmirnrh': 0.0014104372355430183,\n",
       " 'bofgaxbtfu': 0.0014534883720930232,\n",
       " 'dmhrnspode': 0.0014577259475218659,\n",
       " 'dnjkwsnfaf': 0.0014619883040935672,\n",
       " 'dxjipecfsp': 0.001639344262295082,\n",
       " 'dszwcokcka': 0.001644736842105263,\n",
       " 'jbncjtchdr': 0.0016891891891891893,\n",
       " 'rrziiblill': 0.0017094017094017094,\n",
       " 'jcxqnhdefr': 0.001890359168241966,\n",
       " 'crvbdjmnkp': 0.0033003300330033004}"
      ]
     },
     "execution_count": 85,
     "metadata": {},
     "output_type": "execute_result"
    }
   ],
   "source": [
    "dicionario_notas"
   ]
  },
  {
   "cell_type": "markdown",
   "metadata": {},
   "source": [
    "### Torneio para selecionar 2 indivíduos diferentes"
   ]
  },
  {
   "cell_type": "code",
   "execution_count": 90,
   "metadata": {},
   "outputs": [],
   "source": [
    "def torneio(populacao: list[str], dicionario_notas: dict) -> list[str]:\n",
    "    individuos_selecionados: list[str] = []\n",
    "    \n",
    "    while len(individuos_selecionados) < 2:\n",
    "        individuo: str = random.choice(populacao)\n",
    "        individuo2: str = random.choice(populacao)\n",
    "        \n",
    "        \n",
    "        if dicionario_notas[individuo] > dicionario_notas[individuo2]:\n",
    "            if not (individuo in individuos_selecionados): individuos_selecionados.append(individuo)\n",
    "        else:\n",
    "            if not (individuo2 in individuos_selecionados): individuos_selecionados.append(individuo2)\n",
    "            \n",
    "    return individuos_selecionados"
   ]
  },
  {
   "cell_type": "code",
   "execution_count": 91,
   "metadata": {},
   "outputs": [
    {
     "data": {
      "text/plain": [
       "['fcmfhuvxei', 'dmhrnspode']"
      ]
     },
     "execution_count": 91,
     "metadata": {},
     "output_type": "execute_result"
    }
   ],
   "source": [
    "torneio(populacao, dicionario_notas)"
   ]
  },
  {
   "cell_type": "markdown",
   "metadata": {},
   "source": [
    "### Faz o cruzamento entre dois indivíduos"
   ]
  },
  {
   "cell_type": "code",
   "execution_count": 92,
   "metadata": {},
   "outputs": [],
   "source": [
    "def cruza(individuos: list[str], prob = 80) -> list[str]:\n",
    "    iv1, iv2 = individuos\n",
    "    \n",
    "    assert(len(iv1) == len(iv2))\n",
    "    \n",
    "    probabilidade_cruzamento = random.randint(0, 100)\n",
    "    \n",
    "    if probabilidade_cruzamento < prob:\n",
    "        pos = random.randint(0, len(iv1))\n",
    "    \n",
    "        filho1 = iv1[:pos] + iv2[pos:]\n",
    "        filho2 = iv2[:pos] + iv1[pos:]\n",
    "        \n",
    "        return [filho1, filho2]\n",
    "        \n",
    "    else:\n",
    "        return [iv1, iv2]"
   ]
  },
  {
   "cell_type": "code",
   "execution_count": 93,
   "metadata": {},
   "outputs": [
    {
     "name": "stdout",
     "output_type": "stream",
     "text": [
      "['txfqtqodio', 'dnjkwsnfaf']\n",
      "['txjkwsnfaf', 'dnfqtqodio']\n"
     ]
    }
   ],
   "source": [
    "pais = torneio(populacao, dicionario_notas)\n",
    "print(pais)\n",
    "filhos = cruza(pais, 100)\n",
    "print(filhos)"
   ]
  }
 ],
 "metadata": {
  "kernelspec": {
   "display_name": "Python 3",
   "language": "python",
   "name": "python3"
  },
  "language_info": {
   "codemirror_mode": {
    "name": "ipython",
    "version": 3
   },
   "file_extension": ".py",
   "mimetype": "text/x-python",
   "name": "python",
   "nbconvert_exporter": "python",
   "pygments_lexer": "ipython3",
   "version": "3.12.4"
  }
 },
 "nbformat": 4,
 "nbformat_minor": 2
}
