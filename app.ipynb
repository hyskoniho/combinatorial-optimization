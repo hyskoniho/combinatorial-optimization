{
 "cells": [
  {
   "cell_type": "markdown",
   "metadata": {},
   "source": [
    "# Escopo do Projeto\n",
    "Construção de um algoritmo genético (heurística probabilística) para retornar resultados *aproximados* da palavra \"artificial\"."
   ]
  },
  {
   "cell_type": "markdown",
   "metadata": {},
   "source": [
    "### Bibliotecas necessárias"
   ]
  },
  {
   "cell_type": "code",
   "execution_count": 221,
   "metadata": {},
   "outputs": [],
   "source": [
    "import random\n",
    "import string"
   ]
  },
  {
   "cell_type": "markdown",
   "metadata": {},
   "source": [
    "### Geração de um Gene"
   ]
  },
  {
   "cell_type": "code",
   "execution_count": 222,
   "metadata": {},
   "outputs": [],
   "source": [
    "def gene(remove: list = []) -> str:\n",
    "    alfabeto = string.ascii_lowercase\n",
    "    alfabeto = list(alfabeto)\n",
    "    for i in remove:\n",
    "        alfabeto.remove(i)\n",
    "    return random.choice(alfabeto) if len(alfabeto) > 0 else None"
   ]
  },
  {
   "cell_type": "markdown",
   "metadata": {},
   "source": [
    "### Geração da População"
   ]
  },
  {
   "cell_type": "code",
   "execution_count": 223,
   "metadata": {},
   "outputs": [],
   "source": [
    "def gerar_populacao(length: int, quantity: int) -> list[str]:\n",
    "    pl = []\n",
    "    \n",
    "    for x in range(quantity):\n",
    "        word = ''\n",
    "\n",
    "        for y in range(length):\n",
    "            word+=gene()\n",
    "\n",
    "        pl.append(word)\n",
    "    \n",
    "    return pl"
   ]
  },
  {
   "cell_type": "code",
   "execution_count": 224,
   "metadata": {},
   "outputs": [],
   "source": [
    "populacao: list[str] = gerar_populacao(10, 100)"
   ]
  },
  {
   "cell_type": "markdown",
   "metadata": {},
   "source": [
    "### Função de avaliação do indivíduo"
   ]
  },
  {
   "cell_type": "code",
   "execution_count": 225,
   "metadata": {},
   "outputs": [],
   "source": [
    "def avaliar(individuo: str, max: bool = True) -> float | int:\n",
    "    \"\"\"ESTA FUNCAO GERA UM VALOR BASEADO NA DIFERENCA DOS VALORES ASCII DAS PALAVRA\"\"\"\n",
    "\n",
    "    palavra_alvo: str = 'artificial'\n",
    "    nota: int = 0\n",
    "\n",
    "    for caractere_teste, caractere_alvo in zip(individuo, palavra_alvo):\n",
    "        ascii_teste = ord(caractere_teste) # Valor inteiro ascii do caractere teste\n",
    "        ascii_alvo = ord(caractere_alvo) # Valor inteiro ascii do caractere alvo\n",
    "\n",
    "        distancia_quadratica = (ascii_teste - ascii_alvo)**2 # faz o quadradinho\n",
    "\n",
    "        nota+=(distancia_quadratica) # soma a nota\n",
    "    \n",
    "    return 1/nota if max else nota"
   ]
  },
  {
   "cell_type": "markdown",
   "metadata": {},
   "source": [
    "##### Cria um dicionário para armazenar as notas dos indivíduos e tornar mais fácil o seu acesso"
   ]
  },
  {
   "cell_type": "code",
   "execution_count": 226,
   "metadata": {},
   "outputs": [
    {
     "data": {
      "text/plain": [
       "{'fxgjfmhtyq': 0.001006036217303823,\n",
       " 'bhvnxgnihv': 0.0013736263736263737,\n",
       " 'aavhtdhiyv': 0.0008223684210526315,\n",
       " 'vdsckqvjbm': 0.0008873114463176575,\n",
       " 'nctabxfqdf': 0.0012239902080783353,\n",
       " 'wwyptkesne': 0.0009049773755656109,\n",
       " 'xhnhkfmvux': 0.0006609385327164573,\n",
       " 'cwmaeubwfy': 0.0014749262536873156,\n",
       " 'ehvfsjllqf': 0.0014684287812041115,\n",
       " 'aecdqqdjpo': 0.0011061946902654867,\n",
       " 'nualoilqjm': 0.0011682242990654205,\n",
       " 'qawkcnoaif': 0.0011111111111111111,\n",
       " 'rtyfkqyrha': 0.0008688097306689834,\n",
       " 'ztsrkhniyz': 0.0006134969325153375,\n",
       " 'aaysdaexoz': 0.0009066183136899365,\n",
       " 'pszdfwjiet': 0.0016339869281045752,\n",
       " 'wyovavdvfl': 0.0008960573476702509,\n",
       " 'udyuunmlqi': 0.0007199424046076314,\n",
       " 'irqtcqssxi': 0.0008613264427217916,\n",
       " 'ueltuyxrer': 0.000552791597567717,\n",
       " 'gkzalnllkj': 0.0022727272727272726,\n",
       " 'mhyrlpvolm': 0.0010482180293501049,\n",
       " 'rqmorzgmms': 0.000968054211035818,\n",
       " 'vpqvsraatp': 0.0007587253414264037,\n",
       " 'stzzosntcx': 0.0008169934640522876,\n",
       " 'rtiokxidgf': 0.0012004801920768306,\n",
       " 'ppobzikhtl': 0.0008857395925597874,\n",
       " 'hfradmeblv': 0.0018018018018018018,\n",
       " 'uzidoitvsy': 0.0006090133982947625,\n",
       " 'qkktwxmtcf': 0.00078003120124805,\n",
       " 'zhgziwtboz': 0.00047214353163361664,\n",
       " 'yrqwjlwdzx': 0.0005,\n",
       " 'pkrcpayiqi': 0.0008149959250203749,\n",
       " 'perhbkkgrp': 0.0012626262626262627,\n",
       " 'nyvcerzsth': 0.0007429420505200594,\n",
       " 'ivxahlrilr': 0.0018018018018018018,\n",
       " 'iobvippvrc': 0.0007507507507507507,\n",
       " 'uiyfqioovb': 0.0007369196757553427,\n",
       " 'jwfeidryke': 0.0010183299389002036,\n",
       " 'mrcysemqml': 0.0008460236886632825,\n",
       " 'miurtzejav': 0.0011148272017837235,\n",
       " 'cezutlixbg': 0.001183431952662722,\n",
       " 'tphyekygxr': 0.0005485463521667581,\n",
       " 'cpkpsbfudo': 0.0018975332068311196,\n",
       " 'ozevqzwmvr': 0.000510986203372509,\n",
       " 'zvzvcnsdpz': 0.0006321112515802782,\n",
       " 'vrvqusrlgi': 0.0008984725965858042,\n",
       " 'oawanvaajj': 0.001059322033898305,\n",
       " 'ekiztiohyt': 0.0006868131868131869,\n",
       " 'epwpzmmmyd': 0.0008,\n",
       " 'xvxgjpeabz': 0.0011173184357541898,\n",
       " 'dbfsjgaxnl': 0.0010214504596527069,\n",
       " 'pduskeauxq': 0.0007905138339920949,\n",
       " 'dcpiowpvhd': 0.0010224948875255625,\n",
       " 'zfjkttplkh': 0.0006738544474393531,\n",
       " 'hkkzcrlsnj': 0.0010964912280701754,\n",
       " 'xpmshkoync': 0.0007462686567164179,\n",
       " 'fytxtryddo': 0.0009066183136899365,\n",
       " 'egdaqxjhds': 0.0010976948408342481,\n",
       " 'hdeszkkqsc': 0.0006635700066357001,\n",
       " 'zpgypsvrqt': 0.000496031746031746,\n",
       " 'miruehvvti': 0.000784313725490196,\n",
       " 'uakrsfxdtl': 0.0005387931034482759,\n",
       " 'hubxvdzrkc': 0.0005955926146515784,\n",
       " 'kkkjuolymf': 0.0009910802775024777,\n",
       " 'kuurwtmdqs': 0.0009699321047526673,\n",
       " 'myjvezsjhg': 0.0009233610341643582,\n",
       " 'babdqjties': 0.0008968609865470852,\n",
       " 'bjmwnfnysw': 0.0008298755186721991,\n",
       " 'veoaqfkyjc': 0.0007627765064836003,\n",
       " 'ixgcvxaryt': 0.0006618133686300463,\n",
       " 'xziqyhybgx': 0.0005396654074473826,\n",
       " 'pxsaagcltz': 0.0010857763300760044,\n",
       " 'szplwobgln': 0.001152073732718894,\n",
       " 'qcyhklvtur': 0.0006854009595613434,\n",
       " 'dqgabrpkri': 0.0012330456226880395,\n",
       " 'necytsfasv': 0.0005966587112171838,\n",
       " 'xlflkklsrd': 0.0007501875468867217,\n",
       " 'ktvxzbjcsu': 0.0007861635220125787,\n",
       " 'nlzpqoifkh': 0.001644736842105263,\n",
       " 'itdijqkwxu': 0.0007849293563579278,\n",
       " 'rpftusotyz': 0.0005070993914807302,\n",
       " 'cafpsomhcn': 0.0011737089201877935,\n",
       " 'cvbfgmcost': 0.0012594458438287153,\n",
       " 'lqpeujkzhs': 0.0012033694344163659,\n",
       " 'jhsiveamar': 0.00196078431372549,\n",
       " 'eggoyiroua': 0.0006734006734006734,\n",
       " 'rvenxeienw': 0.0008084074373484236,\n",
       " 'ebpyobtipt': 0.0007987220447284345,\n",
       " 'jvhcbphxhh': 0.0015220700152207,\n",
       " 'nwmepengrq': 0.0012285012285012285,\n",
       " 'invntjntli': 0.0014749262536873156,\n",
       " 'blqhpugwuo': 0.0010964912280701754,\n",
       " 'iqtqcrwoce': 0.0014124293785310734,\n",
       " 'bqszszovzr': 0.000580046403712297,\n",
       " 'vqgayxbycr': 0.0006418485237483953,\n",
       " 'dmeovsjxql': 0.000846740050804403,\n",
       " 'sirowojmft': 0.0010822510822510823,\n",
       " 'vxixtgjsmg': 0.0007457121551081282,\n",
       " 'rkoaupzsvv': 0.0005344735435595938}"
      ]
     },
     "execution_count": 226,
     "metadata": {},
     "output_type": "execute_result"
    }
   ],
   "source": [
    "def notas(populacao: list[str]) -> dict[str, float]:\n",
    "    dicionario_notas = {}\n",
    "    for individuo in populacao:\n",
    "        dicionario_notas[individuo] = avaliar(individuo)\n",
    "    return dicionario_notas\n",
    "\n",
    "dicionario_notas = notas(populacao)\n",
    "dicionario_notas"
   ]
  },
  {
   "cell_type": "code",
   "execution_count": 227,
   "metadata": {},
   "outputs": [
    {
     "data": {
      "text/plain": [
       "{'gkzalnllkj': 0.0022727272727272726,\n",
       " 'jhsiveamar': 0.00196078431372549,\n",
       " 'cpkpsbfudo': 0.0018975332068311196,\n",
       " 'hfradmeblv': 0.0018018018018018018,\n",
       " 'ivxahlrilr': 0.0018018018018018018,\n",
       " 'nlzpqoifkh': 0.001644736842105263,\n",
       " 'pszdfwjiet': 0.0016339869281045752,\n",
       " 'jvhcbphxhh': 0.0015220700152207,\n",
       " 'cwmaeubwfy': 0.0014749262536873156,\n",
       " 'invntjntli': 0.0014749262536873156,\n",
       " 'ehvfsjllqf': 0.0014684287812041115,\n",
       " 'iqtqcrwoce': 0.0014124293785310734,\n",
       " 'bhvnxgnihv': 0.0013736263736263737,\n",
       " 'perhbkkgrp': 0.0012626262626262627,\n",
       " 'cvbfgmcost': 0.0012594458438287153,\n",
       " 'dqgabrpkri': 0.0012330456226880395,\n",
       " 'nwmepengrq': 0.0012285012285012285,\n",
       " 'nctabxfqdf': 0.0012239902080783353,\n",
       " 'lqpeujkzhs': 0.0012033694344163659,\n",
       " 'rtiokxidgf': 0.0012004801920768306,\n",
       " 'cezutlixbg': 0.001183431952662722,\n",
       " 'cafpsomhcn': 0.0011737089201877935,\n",
       " 'nualoilqjm': 0.0011682242990654205,\n",
       " 'szplwobgln': 0.001152073732718894,\n",
       " 'xvxgjpeabz': 0.0011173184357541898,\n",
       " 'miurtzejav': 0.0011148272017837235,\n",
       " 'qawkcnoaif': 0.0011111111111111111,\n",
       " 'aecdqqdjpo': 0.0011061946902654867,\n",
       " 'egdaqxjhds': 0.0010976948408342481,\n",
       " 'hkkzcrlsnj': 0.0010964912280701754,\n",
       " 'blqhpugwuo': 0.0010964912280701754,\n",
       " 'pxsaagcltz': 0.0010857763300760044,\n",
       " 'sirowojmft': 0.0010822510822510823,\n",
       " 'oawanvaajj': 0.001059322033898305,\n",
       " 'mhyrlpvolm': 0.0010482180293501049,\n",
       " 'dcpiowpvhd': 0.0010224948875255625,\n",
       " 'dbfsjgaxnl': 0.0010214504596527069,\n",
       " 'jwfeidryke': 0.0010183299389002036,\n",
       " 'fxgjfmhtyq': 0.001006036217303823,\n",
       " 'kkkjuolymf': 0.0009910802775024777,\n",
       " 'kuurwtmdqs': 0.0009699321047526673,\n",
       " 'rqmorzgmms': 0.000968054211035818,\n",
       " 'myjvezsjhg': 0.0009233610341643582,\n",
       " 'aaysdaexoz': 0.0009066183136899365,\n",
       " 'fytxtryddo': 0.0009066183136899365,\n",
       " 'wwyptkesne': 0.0009049773755656109,\n",
       " 'vrvqusrlgi': 0.0008984725965858042,\n",
       " 'babdqjties': 0.0008968609865470852,\n",
       " 'wyovavdvfl': 0.0008960573476702509,\n",
       " 'vdsckqvjbm': 0.0008873114463176575,\n",
       " 'ppobzikhtl': 0.0008857395925597874,\n",
       " 'rtyfkqyrha': 0.0008688097306689834,\n",
       " 'irqtcqssxi': 0.0008613264427217916,\n",
       " 'dmeovsjxql': 0.000846740050804403,\n",
       " 'mrcysemqml': 0.0008460236886632825,\n",
       " 'bjmwnfnysw': 0.0008298755186721991,\n",
       " 'aavhtdhiyv': 0.0008223684210526315,\n",
       " 'stzzosntcx': 0.0008169934640522876,\n",
       " 'pkrcpayiqi': 0.0008149959250203749,\n",
       " 'rvenxeienw': 0.0008084074373484236,\n",
       " 'epwpzmmmyd': 0.0008,\n",
       " 'ebpyobtipt': 0.0007987220447284345,\n",
       " 'pduskeauxq': 0.0007905138339920949,\n",
       " 'ktvxzbjcsu': 0.0007861635220125787,\n",
       " 'itdijqkwxu': 0.0007849293563579278,\n",
       " 'miruehvvti': 0.000784313725490196,\n",
       " 'qkktwxmtcf': 0.00078003120124805,\n",
       " 'veoaqfkyjc': 0.0007627765064836003,\n",
       " 'vpqvsraatp': 0.0007587253414264037,\n",
       " 'iobvippvrc': 0.0007507507507507507,\n",
       " 'xlflkklsrd': 0.0007501875468867217,\n",
       " 'xpmshkoync': 0.0007462686567164179,\n",
       " 'vxixtgjsmg': 0.0007457121551081282,\n",
       " 'nyvcerzsth': 0.0007429420505200594,\n",
       " 'uiyfqioovb': 0.0007369196757553427,\n",
       " 'udyuunmlqi': 0.0007199424046076314,\n",
       " 'ekiztiohyt': 0.0006868131868131869,\n",
       " 'qcyhklvtur': 0.0006854009595613434,\n",
       " 'zfjkttplkh': 0.0006738544474393531,\n",
       " 'eggoyiroua': 0.0006734006734006734,\n",
       " 'hdeszkkqsc': 0.0006635700066357001,\n",
       " 'ixgcvxaryt': 0.0006618133686300463,\n",
       " 'xhnhkfmvux': 0.0006609385327164573,\n",
       " 'vqgayxbycr': 0.0006418485237483953,\n",
       " 'zvzvcnsdpz': 0.0006321112515802782,\n",
       " 'ztsrkhniyz': 0.0006134969325153375,\n",
       " 'uzidoitvsy': 0.0006090133982947625,\n",
       " 'necytsfasv': 0.0005966587112171838,\n",
       " 'hubxvdzrkc': 0.0005955926146515784,\n",
       " 'bqszszovzr': 0.000580046403712297,\n",
       " 'ueltuyxrer': 0.000552791597567717,\n",
       " 'tphyekygxr': 0.0005485463521667581,\n",
       " 'xziqyhybgx': 0.0005396654074473826,\n",
       " 'uakrsfxdtl': 0.0005387931034482759,\n",
       " 'rkoaupzsvv': 0.0005344735435595938,\n",
       " 'ozevqzwmvr': 0.000510986203372509,\n",
       " 'rpftusotyz': 0.0005070993914807302,\n",
       " 'yrqwjlwdzx': 0.0005,\n",
       " 'zpgypsvrqt': 0.000496031746031746,\n",
       " 'zhgziwtboz': 0.00047214353163361664}"
      ]
     },
     "execution_count": 227,
     "metadata": {},
     "output_type": "execute_result"
    }
   ],
   "source": [
    "def ordenar(dicionario: dict, criterio: str = 'DESC') -> dict[str, float]:\n",
    "    if criterio == 'ASC':\n",
    "        dicionario_notas = {k: v for k, v in sorted(dicionario.items(), key=lambda item: item[1])}\n",
    "        \n",
    "    elif criterio == 'DESC':\n",
    "        dicionario_notas = {k: v for k, v in sorted(dicionario.items(), key=lambda item: item[1], reverse=True)}\n",
    "        \n",
    "    return dicionario_notas\n",
    "\n",
    "dicionario_notas = ordenar(dicionario_notas)\n",
    "dicionario_notas"
   ]
  },
  {
   "cell_type": "code",
   "execution_count": 228,
   "metadata": {},
   "outputs": [
    {
     "data": {
      "text/plain": [
       "['gkzalnllkj', 'jhsiveamar']"
      ]
     },
     "execution_count": 228,
     "metadata": {},
     "output_type": "execute_result"
    }
   ],
   "source": [
    "def topn(dicionario: dict, n: int = 2) -> dict:\n",
    "    return list(dicionario.keys())[:n]\n",
    "topn(dicionario_notas)"
   ]
  },
  {
   "cell_type": "markdown",
   "metadata": {},
   "source": [
    "### Torneio para selecionar 2 indivíduos diferentes"
   ]
  },
  {
   "cell_type": "code",
   "execution_count": 237,
   "metadata": {},
   "outputs": [
    {
     "data": {
      "text/plain": [
       "['dmeovsjxql', 'hdeszkkqsc']"
      ]
     },
     "execution_count": 237,
     "metadata": {},
     "output_type": "execute_result"
    }
   ],
   "source": [
    "def torneio(populacao_selecionada: list[str], dicionario_notas: dict, melhores_individuos: list[str] = topn(dicionario_notas)) -> list[str]:\n",
    "    individuos_selecionados: list[str] = []\n",
    "    for individuo in melhores_individuos:\n",
    "        if individuo in populacao_selecionada:populacao_selecionada.remove(individuo)\n",
    "        \n",
    "    while len(individuos_selecionados) < 2:\n",
    "        individuo: str = random.choice(populacao_selecionada)\n",
    "        individuo2: str = random.choice(populacao_selecionada)\n",
    "        \n",
    "        \n",
    "        if dicionario_notas[individuo] > dicionario_notas[individuo2]:\n",
    "            if not (individuo in individuos_selecionados): individuos_selecionados.append(individuo)\n",
    "        else:\n",
    "            if not (individuo2 in individuos_selecionados): individuos_selecionados.append(individuo2)\n",
    "            \n",
    "    return individuos_selecionados\n",
    "\n",
    "torneio(populacao, dicionario_notas)"
   ]
  },
  {
   "cell_type": "markdown",
   "metadata": {},
   "source": [
    "### Faz o cruzamento entre dois indivíduos (usando o método *crossover*)"
   ]
  },
  {
   "cell_type": "code",
   "execution_count": 230,
   "metadata": {},
   "outputs": [],
   "source": [
    "def cruza(pai_mae: list[str], prob = 80) -> list[str]:\n",
    "    iv1, iv2 = pai_mae\n",
    "    \n",
    "    assert(len(iv1) == len(iv2))\n",
    "    \n",
    "    probabilidade_cruzamento = random.randint(0, 100)\n",
    "    \n",
    "    if probabilidade_cruzamento < prob:\n",
    "        pos = random.randint(0, len(iv1))\n",
    "    \n",
    "        filho1 = iv1[:pos] + iv2[pos:]\n",
    "        filho2 = iv2[:pos] + iv1[pos:]\n",
    "        \n",
    "        return [filho1, filho2]\n",
    "        \n",
    "    else:\n",
    "        return [iv1, iv2]"
   ]
  },
  {
   "cell_type": "code",
   "execution_count": 231,
   "metadata": {},
   "outputs": [
    {
     "name": "stdout",
     "output_type": "stream",
     "text": [
      "98\n",
      "98\n",
      "['dmeovsjxql', 'qcyhklvtur']\n",
      "['dmeovsjtur', 'qcyhklvxql']\n"
     ]
    }
   ],
   "source": [
    "pais = torneio(populacao, dicionario_notas)\n",
    "print(pais)\n",
    "filhos = cruza(pais, 100)\n",
    "print(filhos)"
   ]
  },
  {
   "cell_type": "markdown",
   "metadata": {},
   "source": [
    "### Mutação de Indivíduos"
   ]
  },
  {
   "cell_type": "code",
   "execution_count": 232,
   "metadata": {},
   "outputs": [],
   "source": [
    "def mutar(individuos: list[str], prob = 50) -> list[str]: # 50 é igual a 0.05 nesse caso\n",
    "    individuos_mutados = []\n",
    "    for individuo in individuos:\n",
    "        for pos, alelo in enumerate(individuo):\n",
    "            probabilidade_mutacao = random.randint(0, 1000)\n",
    "            \n",
    "            if probabilidade_mutacao < prob:\n",
    "                novo_gene = gene(remove=[alelo]) \n",
    "                individuo = f'{individuo[:pos]}{novo_gene}{individuo[pos+1:]}'\n",
    "                \n",
    "        individuos_mutados.append(individuo)\n",
    "    \n",
    "    return individuos_mutados"
   ]
  },
  {
   "cell_type": "code",
   "execution_count": null,
   "metadata": {},
   "outputs": [],
   "source": []
  }
 ],
 "metadata": {
  "kernelspec": {
   "display_name": "Python 3",
   "language": "python",
   "name": "python3"
  },
  "language_info": {
   "codemirror_mode": {
    "name": "ipython",
    "version": 3
   },
   "file_extension": ".py",
   "mimetype": "text/x-python",
   "name": "python",
   "nbconvert_exporter": "python",
   "pygments_lexer": "ipython3",
   "version": "3.12.4"
  }
 },
 "nbformat": 4,
 "nbformat_minor": 2
}
